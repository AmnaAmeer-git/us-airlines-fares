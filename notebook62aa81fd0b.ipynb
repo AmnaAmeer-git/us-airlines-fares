{
 "cells": [
  {
   "cell_type": "code",
   "execution_count": 1,
   "id": "3810ad93",
   "metadata": {
    "_cell_guid": "b1076dfc-b9ad-4769-8c92-a6c4dae69d19",
    "_uuid": "8f2839f25d086af736a60e9eeb907d3b93b6e0e5",
    "execution": {
     "iopub.execute_input": "2025-04-16T19:11:01.524031Z",
     "iopub.status.busy": "2025-04-16T19:11:01.523446Z",
     "iopub.status.idle": "2025-04-16T19:11:02.505637Z",
     "shell.execute_reply": "2025-04-16T19:11:02.504423Z"
    },
    "papermill": {
     "duration": 1.014081,
     "end_time": "2025-04-16T19:11:02.509979",
     "exception": false,
     "start_time": "2025-04-16T19:11:01.495898",
     "status": "completed"
    },
    "tags": []
   },
   "outputs": [
    {
     "name": "stdout",
     "output_type": "stream",
     "text": [
      "/kaggle/input/us-airline-flight-routes-and-fares-1993-2024/US Airline Flight Routes and Fares 1993-2024.csv\n"
     ]
    }
   ],
   "source": [
    "# This Python 3 environment comes with many helpful analytics libraries installed\n",
    "# It is defined by the kaggle/python Docker image: https://github.com/kaggle/docker-python\n",
    "# For example, here's several helpful packages to load\n",
    "\n",
    "import numpy as np # linear algebra\n",
    "import pandas as pd # data processing, CSV file I/O (e.g. pd.read_csv)\n",
    "\n",
    "# Input data files are available in the read-only \"../input/\" directory\n",
    "# For example, running this (by clicking run or pressing Shift+Enter) will list all files under the input directory\n",
    "\n",
    "import os\n",
    "for dirname, _, filenames in os.walk('/kaggle/input'):\n",
    "    for filename in filenames:\n",
    "        print(os.path.join(dirname, filename))\n",
    "\n",
    "# You can write up to 20GB to the current directory (/kaggle/working/) that gets preserved as output when you create a version using \"Save & Run All\" \n",
    "# You can also write temporary files to /kaggle/temp/, but they won't be saved outside of the current session"
   ]
  },
  {
   "cell_type": "code",
   "execution_count": 2,
   "id": "87963aef",
   "metadata": {
    "execution": {
     "iopub.execute_input": "2025-04-16T19:11:02.565219Z",
     "iopub.status.busy": "2025-04-16T19:11:02.564716Z",
     "iopub.status.idle": "2025-04-16T19:11:02.570536Z",
     "shell.execute_reply": "2025-04-16T19:11:02.569342Z"
    },
    "papermill": {
     "duration": 0.033375,
     "end_time": "2025-04-16T19:11:02.572765",
     "exception": false,
     "start_time": "2025-04-16T19:11:02.539390",
     "status": "completed"
    },
    "tags": []
   },
   "outputs": [],
   "source": [
    "import pandas as pd\n",
    "import numpy as np\n",
    "import matplotlib.pyplot as plt\n",
    "import warnings\n",
    "warnings.filterwarnings('ignore')\n"
   ]
  },
  {
   "cell_type": "code",
   "execution_count": 3,
   "id": "c24e5805",
   "metadata": {
    "execution": {
     "iopub.execute_input": "2025-04-16T19:11:02.627840Z",
     "iopub.status.busy": "2025-04-16T19:11:02.627420Z",
     "iopub.status.idle": "2025-04-16T19:11:05.158556Z",
     "shell.execute_reply": "2025-04-16T19:11:05.157304Z"
    },
    "papermill": {
     "duration": 2.56582,
     "end_time": "2025-04-16T19:11:05.161246",
     "exception": false,
     "start_time": "2025-04-16T19:11:02.595426",
     "status": "completed"
    },
    "tags": []
   },
   "outputs": [
    {
     "data": {
      "text/html": [
       "<div>\n",
       "<style scoped>\n",
       "    .dataframe tbody tr th:only-of-type {\n",
       "        vertical-align: middle;\n",
       "    }\n",
       "\n",
       "    .dataframe tbody tr th {\n",
       "        vertical-align: top;\n",
       "    }\n",
       "\n",
       "    .dataframe thead th {\n",
       "        text-align: right;\n",
       "    }\n",
       "</style>\n",
       "<table border=\"1\" class=\"dataframe\">\n",
       "  <thead>\n",
       "    <tr style=\"text-align: right;\">\n",
       "      <th></th>\n",
       "      <th>tbl</th>\n",
       "      <th>Year</th>\n",
       "      <th>quarter</th>\n",
       "      <th>citymarketid_1</th>\n",
       "      <th>citymarketid_2</th>\n",
       "      <th>city1</th>\n",
       "      <th>city2</th>\n",
       "      <th>airportid_1</th>\n",
       "      <th>airportid_2</th>\n",
       "      <th>airport_1</th>\n",
       "      <th>...</th>\n",
       "      <th>fare</th>\n",
       "      <th>carrier_lg</th>\n",
       "      <th>large_ms</th>\n",
       "      <th>fare_lg</th>\n",
       "      <th>carrier_low</th>\n",
       "      <th>lf_ms</th>\n",
       "      <th>fare_low</th>\n",
       "      <th>Geocoded_City1</th>\n",
       "      <th>Geocoded_City2</th>\n",
       "      <th>tbl1apk</th>\n",
       "    </tr>\n",
       "  </thead>\n",
       "  <tbody>\n",
       "    <tr>\n",
       "      <th>0</th>\n",
       "      <td>Table1a</td>\n",
       "      <td>2021</td>\n",
       "      <td>3</td>\n",
       "      <td>30135</td>\n",
       "      <td>33195</td>\n",
       "      <td>Allentown/Bethlehem/Easton, PA</td>\n",
       "      <td>Tampa, FL (Metropolitan Area)</td>\n",
       "      <td>10135</td>\n",
       "      <td>14112</td>\n",
       "      <td>ABE</td>\n",
       "      <td>...</td>\n",
       "      <td>81.43</td>\n",
       "      <td>G4</td>\n",
       "      <td>1.0000</td>\n",
       "      <td>81.43</td>\n",
       "      <td>G4</td>\n",
       "      <td>1.0000</td>\n",
       "      <td>81.43</td>\n",
       "      <td>NaN</td>\n",
       "      <td>NaN</td>\n",
       "      <td>202131013514112ABEPIE</td>\n",
       "    </tr>\n",
       "    <tr>\n",
       "      <th>1</th>\n",
       "      <td>Table1a</td>\n",
       "      <td>2021</td>\n",
       "      <td>3</td>\n",
       "      <td>30135</td>\n",
       "      <td>33195</td>\n",
       "      <td>Allentown/Bethlehem/Easton, PA</td>\n",
       "      <td>Tampa, FL (Metropolitan Area)</td>\n",
       "      <td>10135</td>\n",
       "      <td>15304</td>\n",
       "      <td>ABE</td>\n",
       "      <td>...</td>\n",
       "      <td>208.93</td>\n",
       "      <td>DL</td>\n",
       "      <td>0.4659</td>\n",
       "      <td>219.98</td>\n",
       "      <td>UA</td>\n",
       "      <td>0.1193</td>\n",
       "      <td>154.11</td>\n",
       "      <td>NaN</td>\n",
       "      <td>NaN</td>\n",
       "      <td>202131013515304ABETPA</td>\n",
       "    </tr>\n",
       "    <tr>\n",
       "      <th>2</th>\n",
       "      <td>Table1a</td>\n",
       "      <td>2021</td>\n",
       "      <td>3</td>\n",
       "      <td>30140</td>\n",
       "      <td>30194</td>\n",
       "      <td>Albuquerque, NM</td>\n",
       "      <td>Dallas/Fort Worth, TX</td>\n",
       "      <td>10140</td>\n",
       "      <td>11259</td>\n",
       "      <td>ABQ</td>\n",
       "      <td>...</td>\n",
       "      <td>184.56</td>\n",
       "      <td>WN</td>\n",
       "      <td>0.9968</td>\n",
       "      <td>184.44</td>\n",
       "      <td>WN</td>\n",
       "      <td>0.9968</td>\n",
       "      <td>184.44</td>\n",
       "      <td>NaN</td>\n",
       "      <td>NaN</td>\n",
       "      <td>202131014011259ABQDAL</td>\n",
       "    </tr>\n",
       "    <tr>\n",
       "      <th>3</th>\n",
       "      <td>Table1a</td>\n",
       "      <td>2021</td>\n",
       "      <td>3</td>\n",
       "      <td>30140</td>\n",
       "      <td>30194</td>\n",
       "      <td>Albuquerque, NM</td>\n",
       "      <td>Dallas/Fort Worth, TX</td>\n",
       "      <td>10140</td>\n",
       "      <td>11298</td>\n",
       "      <td>ABQ</td>\n",
       "      <td>...</td>\n",
       "      <td>182.64</td>\n",
       "      <td>AA</td>\n",
       "      <td>0.9774</td>\n",
       "      <td>183.09</td>\n",
       "      <td>AA</td>\n",
       "      <td>0.9774</td>\n",
       "      <td>183.09</td>\n",
       "      <td>NaN</td>\n",
       "      <td>NaN</td>\n",
       "      <td>202131014011298ABQDFW</td>\n",
       "    </tr>\n",
       "    <tr>\n",
       "      <th>4</th>\n",
       "      <td>Table1a</td>\n",
       "      <td>2021</td>\n",
       "      <td>3</td>\n",
       "      <td>30140</td>\n",
       "      <td>30466</td>\n",
       "      <td>Albuquerque, NM</td>\n",
       "      <td>Phoenix, AZ</td>\n",
       "      <td>10140</td>\n",
       "      <td>14107</td>\n",
       "      <td>ABQ</td>\n",
       "      <td>...</td>\n",
       "      <td>177.11</td>\n",
       "      <td>WN</td>\n",
       "      <td>0.6061</td>\n",
       "      <td>184.49</td>\n",
       "      <td>AA</td>\n",
       "      <td>0.3939</td>\n",
       "      <td>165.77</td>\n",
       "      <td>NaN</td>\n",
       "      <td>NaN</td>\n",
       "      <td>202131014014107ABQPHX</td>\n",
       "    </tr>\n",
       "    <tr>\n",
       "      <th>...</th>\n",
       "      <td>...</td>\n",
       "      <td>...</td>\n",
       "      <td>...</td>\n",
       "      <td>...</td>\n",
       "      <td>...</td>\n",
       "      <td>...</td>\n",
       "      <td>...</td>\n",
       "      <td>...</td>\n",
       "      <td>...</td>\n",
       "      <td>...</td>\n",
       "      <td>...</td>\n",
       "      <td>...</td>\n",
       "      <td>...</td>\n",
       "      <td>...</td>\n",
       "      <td>...</td>\n",
       "      <td>...</td>\n",
       "      <td>...</td>\n",
       "      <td>...</td>\n",
       "      <td>...</td>\n",
       "      <td>...</td>\n",
       "      <td>...</td>\n",
       "    </tr>\n",
       "    <tr>\n",
       "      <th>245950</th>\n",
       "      <td>Table1a</td>\n",
       "      <td>2024</td>\n",
       "      <td>1</td>\n",
       "      <td>35412</td>\n",
       "      <td>31703</td>\n",
       "      <td>Knoxville, TN</td>\n",
       "      <td>New York City, NY (Metropolitan Area)</td>\n",
       "      <td>15412</td>\n",
       "      <td>12953</td>\n",
       "      <td>TYS</td>\n",
       "      <td>...</td>\n",
       "      <td>278.70</td>\n",
       "      <td>DL</td>\n",
       "      <td>0.7503</td>\n",
       "      <td>287.44</td>\n",
       "      <td>AA</td>\n",
       "      <td>0.2359</td>\n",
       "      <td>248.46</td>\n",
       "      <td>NaN</td>\n",
       "      <td>NaN</td>\n",
       "      <td>202411541212953TYSLGA</td>\n",
       "    </tr>\n",
       "    <tr>\n",
       "      <th>245951</th>\n",
       "      <td>Table1a</td>\n",
       "      <td>2024</td>\n",
       "      <td>1</td>\n",
       "      <td>35412</td>\n",
       "      <td>32467</td>\n",
       "      <td>Knoxville, TN</td>\n",
       "      <td>Miami, FL (Metropolitan Area)</td>\n",
       "      <td>15412</td>\n",
       "      <td>11697</td>\n",
       "      <td>TYS</td>\n",
       "      <td>...</td>\n",
       "      <td>148.69</td>\n",
       "      <td>G4</td>\n",
       "      <td>0.8255</td>\n",
       "      <td>114.45</td>\n",
       "      <td>G4</td>\n",
       "      <td>0.8255</td>\n",
       "      <td>114.45</td>\n",
       "      <td>NaN</td>\n",
       "      <td>NaN</td>\n",
       "      <td>202411541211697TYSFLL</td>\n",
       "    </tr>\n",
       "    <tr>\n",
       "      <th>245952</th>\n",
       "      <td>Table1a</td>\n",
       "      <td>2024</td>\n",
       "      <td>1</td>\n",
       "      <td>35412</td>\n",
       "      <td>32467</td>\n",
       "      <td>Knoxville, TN</td>\n",
       "      <td>Miami, FL (Metropolitan Area)</td>\n",
       "      <td>15412</td>\n",
       "      <td>13303</td>\n",
       "      <td>TYS</td>\n",
       "      <td>...</td>\n",
       "      <td>330.19</td>\n",
       "      <td>AA</td>\n",
       "      <td>0.8057</td>\n",
       "      <td>321.92</td>\n",
       "      <td>AA</td>\n",
       "      <td>0.8057</td>\n",
       "      <td>321.92</td>\n",
       "      <td>NaN</td>\n",
       "      <td>NaN</td>\n",
       "      <td>202411541213303TYSMIA</td>\n",
       "    </tr>\n",
       "    <tr>\n",
       "      <th>245953</th>\n",
       "      <td>Table1a</td>\n",
       "      <td>2024</td>\n",
       "      <td>1</td>\n",
       "      <td>35412</td>\n",
       "      <td>33195</td>\n",
       "      <td>Knoxville, TN</td>\n",
       "      <td>Tampa, FL (Metropolitan Area)</td>\n",
       "      <td>15412</td>\n",
       "      <td>14112</td>\n",
       "      <td>TYS</td>\n",
       "      <td>...</td>\n",
       "      <td>95.65</td>\n",
       "      <td>G4</td>\n",
       "      <td>1.0000</td>\n",
       "      <td>95.65</td>\n",
       "      <td>G4</td>\n",
       "      <td>1.0000</td>\n",
       "      <td>95.65</td>\n",
       "      <td>NaN</td>\n",
       "      <td>NaN</td>\n",
       "      <td>202411541214112TYSPIE</td>\n",
       "    </tr>\n",
       "    <tr>\n",
       "      <th>245954</th>\n",
       "      <td>Table1a</td>\n",
       "      <td>2024</td>\n",
       "      <td>1</td>\n",
       "      <td>35412</td>\n",
       "      <td>33195</td>\n",
       "      <td>Knoxville, TN</td>\n",
       "      <td>Tampa, FL (Metropolitan Area)</td>\n",
       "      <td>15412</td>\n",
       "      <td>15304</td>\n",
       "      <td>TYS</td>\n",
       "      <td>...</td>\n",
       "      <td>330.15</td>\n",
       "      <td>AA</td>\n",
       "      <td>0.5212</td>\n",
       "      <td>288.38</td>\n",
       "      <td>AA</td>\n",
       "      <td>0.5212</td>\n",
       "      <td>288.38</td>\n",
       "      <td>NaN</td>\n",
       "      <td>NaN</td>\n",
       "      <td>202411541215304TYSTPA</td>\n",
       "    </tr>\n",
       "  </tbody>\n",
       "</table>\n",
       "<p>245955 rows × 23 columns</p>\n",
       "</div>"
      ],
      "text/plain": [
       "            tbl  Year  quarter  citymarketid_1  citymarketid_2  \\\n",
       "0       Table1a  2021        3           30135           33195   \n",
       "1       Table1a  2021        3           30135           33195   \n",
       "2       Table1a  2021        3           30140           30194   \n",
       "3       Table1a  2021        3           30140           30194   \n",
       "4       Table1a  2021        3           30140           30466   \n",
       "...         ...   ...      ...             ...             ...   \n",
       "245950  Table1a  2024        1           35412           31703   \n",
       "245951  Table1a  2024        1           35412           32467   \n",
       "245952  Table1a  2024        1           35412           32467   \n",
       "245953  Table1a  2024        1           35412           33195   \n",
       "245954  Table1a  2024        1           35412           33195   \n",
       "\n",
       "                                 city1                                  city2  \\\n",
       "0       Allentown/Bethlehem/Easton, PA          Tampa, FL (Metropolitan Area)   \n",
       "1       Allentown/Bethlehem/Easton, PA          Tampa, FL (Metropolitan Area)   \n",
       "2                      Albuquerque, NM                  Dallas/Fort Worth, TX   \n",
       "3                      Albuquerque, NM                  Dallas/Fort Worth, TX   \n",
       "4                      Albuquerque, NM                            Phoenix, AZ   \n",
       "...                                ...                                    ...   \n",
       "245950                   Knoxville, TN  New York City, NY (Metropolitan Area)   \n",
       "245951                   Knoxville, TN          Miami, FL (Metropolitan Area)   \n",
       "245952                   Knoxville, TN          Miami, FL (Metropolitan Area)   \n",
       "245953                   Knoxville, TN          Tampa, FL (Metropolitan Area)   \n",
       "245954                   Knoxville, TN          Tampa, FL (Metropolitan Area)   \n",
       "\n",
       "        airportid_1  airportid_2 airport_1  ...    fare  carrier_lg  large_ms  \\\n",
       "0             10135        14112       ABE  ...   81.43          G4    1.0000   \n",
       "1             10135        15304       ABE  ...  208.93          DL    0.4659   \n",
       "2             10140        11259       ABQ  ...  184.56          WN    0.9968   \n",
       "3             10140        11298       ABQ  ...  182.64          AA    0.9774   \n",
       "4             10140        14107       ABQ  ...  177.11          WN    0.6061   \n",
       "...             ...          ...       ...  ...     ...         ...       ...   \n",
       "245950        15412        12953       TYS  ...  278.70          DL    0.7503   \n",
       "245951        15412        11697       TYS  ...  148.69          G4    0.8255   \n",
       "245952        15412        13303       TYS  ...  330.19          AA    0.8057   \n",
       "245953        15412        14112       TYS  ...   95.65          G4    1.0000   \n",
       "245954        15412        15304       TYS  ...  330.15          AA    0.5212   \n",
       "\n",
       "        fare_lg carrier_low   lf_ms  fare_low Geocoded_City1  Geocoded_City2  \\\n",
       "0         81.43          G4  1.0000     81.43            NaN             NaN   \n",
       "1        219.98          UA  0.1193    154.11            NaN             NaN   \n",
       "2        184.44          WN  0.9968    184.44            NaN             NaN   \n",
       "3        183.09          AA  0.9774    183.09            NaN             NaN   \n",
       "4        184.49          AA  0.3939    165.77            NaN             NaN   \n",
       "...         ...         ...     ...       ...            ...             ...   \n",
       "245950   287.44          AA  0.2359    248.46            NaN             NaN   \n",
       "245951   114.45          G4  0.8255    114.45            NaN             NaN   \n",
       "245952   321.92          AA  0.8057    321.92            NaN             NaN   \n",
       "245953    95.65          G4  1.0000     95.65            NaN             NaN   \n",
       "245954   288.38          AA  0.5212    288.38            NaN             NaN   \n",
       "\n",
       "                      tbl1apk  \n",
       "0       202131013514112ABEPIE  \n",
       "1       202131013515304ABETPA  \n",
       "2       202131014011259ABQDAL  \n",
       "3       202131014011298ABQDFW  \n",
       "4       202131014014107ABQPHX  \n",
       "...                       ...  \n",
       "245950  202411541212953TYSLGA  \n",
       "245951  202411541211697TYSFLL  \n",
       "245952  202411541213303TYSMIA  \n",
       "245953  202411541214112TYSPIE  \n",
       "245954  202411541215304TYSTPA  \n",
       "\n",
       "[245955 rows x 23 columns]"
      ]
     },
     "execution_count": 3,
     "metadata": {},
     "output_type": "execute_result"
    }
   ],
   "source": [
    "df = pd.read_csv('/kaggle/input/us-airline-flight-routes-and-fares-1993-2024/US Airline Flight Routes and Fares 1993-2024.csv')\n",
    "df"
   ]
  },
  {
   "cell_type": "code",
   "execution_count": 4,
   "id": "311ae9c7",
   "metadata": {
    "execution": {
     "iopub.execute_input": "2025-04-16T19:11:05.208872Z",
     "iopub.status.busy": "2025-04-16T19:11:05.208481Z",
     "iopub.status.idle": "2025-04-16T19:11:05.249689Z",
     "shell.execute_reply": "2025-04-16T19:11:05.248470Z"
    },
    "papermill": {
     "duration": 0.068236,
     "end_time": "2025-04-16T19:11:05.252181",
     "exception": false,
     "start_time": "2025-04-16T19:11:05.183945",
     "status": "completed"
    },
    "tags": []
   },
   "outputs": [
    {
     "data": {
      "text/html": [
       "<div>\n",
       "<style scoped>\n",
       "    .dataframe tbody tr th:only-of-type {\n",
       "        vertical-align: middle;\n",
       "    }\n",
       "\n",
       "    .dataframe tbody tr th {\n",
       "        vertical-align: top;\n",
       "    }\n",
       "\n",
       "    .dataframe thead th {\n",
       "        text-align: right;\n",
       "    }\n",
       "</style>\n",
       "<table border=\"1\" class=\"dataframe\">\n",
       "  <thead>\n",
       "    <tr style=\"text-align: right;\">\n",
       "      <th></th>\n",
       "      <th>tbl</th>\n",
       "      <th>Year</th>\n",
       "      <th>quarter</th>\n",
       "      <th>citymarketid_1</th>\n",
       "      <th>citymarketid_2</th>\n",
       "      <th>city1</th>\n",
       "      <th>city2</th>\n",
       "      <th>airportid_1</th>\n",
       "      <th>airportid_2</th>\n",
       "      <th>airport_1</th>\n",
       "      <th>airport_2</th>\n",
       "      <th>nsmiles</th>\n",
       "      <th>passengers</th>\n",
       "      <th>fare</th>\n",
       "      <th>carrier_lg</th>\n",
       "    </tr>\n",
       "  </thead>\n",
       "  <tbody>\n",
       "    <tr>\n",
       "      <th>0</th>\n",
       "      <td>Table1a</td>\n",
       "      <td>2021</td>\n",
       "      <td>3</td>\n",
       "      <td>30135</td>\n",
       "      <td>33195</td>\n",
       "      <td>Allentown/Bethlehem/Easton, PA</td>\n",
       "      <td>Tampa, FL (Metropolitan Area)</td>\n",
       "      <td>10135</td>\n",
       "      <td>14112</td>\n",
       "      <td>ABE</td>\n",
       "      <td>PIE</td>\n",
       "      <td>970</td>\n",
       "      <td>180</td>\n",
       "      <td>81.43</td>\n",
       "      <td>G4</td>\n",
       "    </tr>\n",
       "    <tr>\n",
       "      <th>1</th>\n",
       "      <td>Table1a</td>\n",
       "      <td>2021</td>\n",
       "      <td>3</td>\n",
       "      <td>30135</td>\n",
       "      <td>33195</td>\n",
       "      <td>Allentown/Bethlehem/Easton, PA</td>\n",
       "      <td>Tampa, FL (Metropolitan Area)</td>\n",
       "      <td>10135</td>\n",
       "      <td>15304</td>\n",
       "      <td>ABE</td>\n",
       "      <td>TPA</td>\n",
       "      <td>970</td>\n",
       "      <td>19</td>\n",
       "      <td>208.93</td>\n",
       "      <td>DL</td>\n",
       "    </tr>\n",
       "    <tr>\n",
       "      <th>2</th>\n",
       "      <td>Table1a</td>\n",
       "      <td>2021</td>\n",
       "      <td>3</td>\n",
       "      <td>30140</td>\n",
       "      <td>30194</td>\n",
       "      <td>Albuquerque, NM</td>\n",
       "      <td>Dallas/Fort Worth, TX</td>\n",
       "      <td>10140</td>\n",
       "      <td>11259</td>\n",
       "      <td>ABQ</td>\n",
       "      <td>DAL</td>\n",
       "      <td>580</td>\n",
       "      <td>204</td>\n",
       "      <td>184.56</td>\n",
       "      <td>WN</td>\n",
       "    </tr>\n",
       "    <tr>\n",
       "      <th>3</th>\n",
       "      <td>Table1a</td>\n",
       "      <td>2021</td>\n",
       "      <td>3</td>\n",
       "      <td>30140</td>\n",
       "      <td>30194</td>\n",
       "      <td>Albuquerque, NM</td>\n",
       "      <td>Dallas/Fort Worth, TX</td>\n",
       "      <td>10140</td>\n",
       "      <td>11298</td>\n",
       "      <td>ABQ</td>\n",
       "      <td>DFW</td>\n",
       "      <td>580</td>\n",
       "      <td>264</td>\n",
       "      <td>182.64</td>\n",
       "      <td>AA</td>\n",
       "    </tr>\n",
       "    <tr>\n",
       "      <th>4</th>\n",
       "      <td>Table1a</td>\n",
       "      <td>2021</td>\n",
       "      <td>3</td>\n",
       "      <td>30140</td>\n",
       "      <td>30466</td>\n",
       "      <td>Albuquerque, NM</td>\n",
       "      <td>Phoenix, AZ</td>\n",
       "      <td>10140</td>\n",
       "      <td>14107</td>\n",
       "      <td>ABQ</td>\n",
       "      <td>PHX</td>\n",
       "      <td>328</td>\n",
       "      <td>398</td>\n",
       "      <td>177.11</td>\n",
       "      <td>WN</td>\n",
       "    </tr>\n",
       "    <tr>\n",
       "      <th>...</th>\n",
       "      <td>...</td>\n",
       "      <td>...</td>\n",
       "      <td>...</td>\n",
       "      <td>...</td>\n",
       "      <td>...</td>\n",
       "      <td>...</td>\n",
       "      <td>...</td>\n",
       "      <td>...</td>\n",
       "      <td>...</td>\n",
       "      <td>...</td>\n",
       "      <td>...</td>\n",
       "      <td>...</td>\n",
       "      <td>...</td>\n",
       "      <td>...</td>\n",
       "      <td>...</td>\n",
       "    </tr>\n",
       "    <tr>\n",
       "      <th>245950</th>\n",
       "      <td>Table1a</td>\n",
       "      <td>2024</td>\n",
       "      <td>1</td>\n",
       "      <td>35412</td>\n",
       "      <td>31703</td>\n",
       "      <td>Knoxville, TN</td>\n",
       "      <td>New York City, NY (Metropolitan Area)</td>\n",
       "      <td>15412</td>\n",
       "      <td>12953</td>\n",
       "      <td>TYS</td>\n",
       "      <td>LGA</td>\n",
       "      <td>665</td>\n",
       "      <td>207</td>\n",
       "      <td>278.70</td>\n",
       "      <td>DL</td>\n",
       "    </tr>\n",
       "    <tr>\n",
       "      <th>245951</th>\n",
       "      <td>Table1a</td>\n",
       "      <td>2024</td>\n",
       "      <td>1</td>\n",
       "      <td>35412</td>\n",
       "      <td>32467</td>\n",
       "      <td>Knoxville, TN</td>\n",
       "      <td>Miami, FL (Metropolitan Area)</td>\n",
       "      <td>15412</td>\n",
       "      <td>11697</td>\n",
       "      <td>TYS</td>\n",
       "      <td>FLL</td>\n",
       "      <td>724</td>\n",
       "      <td>277</td>\n",
       "      <td>148.69</td>\n",
       "      <td>G4</td>\n",
       "    </tr>\n",
       "    <tr>\n",
       "      <th>245952</th>\n",
       "      <td>Table1a</td>\n",
       "      <td>2024</td>\n",
       "      <td>1</td>\n",
       "      <td>35412</td>\n",
       "      <td>32467</td>\n",
       "      <td>Knoxville, TN</td>\n",
       "      <td>Miami, FL (Metropolitan Area)</td>\n",
       "      <td>15412</td>\n",
       "      <td>13303</td>\n",
       "      <td>TYS</td>\n",
       "      <td>MIA</td>\n",
       "      <td>724</td>\n",
       "      <td>70</td>\n",
       "      <td>330.19</td>\n",
       "      <td>AA</td>\n",
       "    </tr>\n",
       "    <tr>\n",
       "      <th>245953</th>\n",
       "      <td>Table1a</td>\n",
       "      <td>2024</td>\n",
       "      <td>1</td>\n",
       "      <td>35412</td>\n",
       "      <td>33195</td>\n",
       "      <td>Knoxville, TN</td>\n",
       "      <td>Tampa, FL (Metropolitan Area)</td>\n",
       "      <td>15412</td>\n",
       "      <td>14112</td>\n",
       "      <td>TYS</td>\n",
       "      <td>PIE</td>\n",
       "      <td>550</td>\n",
       "      <td>178</td>\n",
       "      <td>95.65</td>\n",
       "      <td>G4</td>\n",
       "    </tr>\n",
       "    <tr>\n",
       "      <th>245954</th>\n",
       "      <td>Table1a</td>\n",
       "      <td>2024</td>\n",
       "      <td>1</td>\n",
       "      <td>35412</td>\n",
       "      <td>33195</td>\n",
       "      <td>Knoxville, TN</td>\n",
       "      <td>Tampa, FL (Metropolitan Area)</td>\n",
       "      <td>15412</td>\n",
       "      <td>15304</td>\n",
       "      <td>TYS</td>\n",
       "      <td>TPA</td>\n",
       "      <td>550</td>\n",
       "      <td>57</td>\n",
       "      <td>330.15</td>\n",
       "      <td>AA</td>\n",
       "    </tr>\n",
       "  </tbody>\n",
       "</table>\n",
       "<p>245955 rows × 15 columns</p>\n",
       "</div>"
      ],
      "text/plain": [
       "            tbl  Year  quarter  citymarketid_1  citymarketid_2  \\\n",
       "0       Table1a  2021        3           30135           33195   \n",
       "1       Table1a  2021        3           30135           33195   \n",
       "2       Table1a  2021        3           30140           30194   \n",
       "3       Table1a  2021        3           30140           30194   \n",
       "4       Table1a  2021        3           30140           30466   \n",
       "...         ...   ...      ...             ...             ...   \n",
       "245950  Table1a  2024        1           35412           31703   \n",
       "245951  Table1a  2024        1           35412           32467   \n",
       "245952  Table1a  2024        1           35412           32467   \n",
       "245953  Table1a  2024        1           35412           33195   \n",
       "245954  Table1a  2024        1           35412           33195   \n",
       "\n",
       "                                 city1                                  city2  \\\n",
       "0       Allentown/Bethlehem/Easton, PA          Tampa, FL (Metropolitan Area)   \n",
       "1       Allentown/Bethlehem/Easton, PA          Tampa, FL (Metropolitan Area)   \n",
       "2                      Albuquerque, NM                  Dallas/Fort Worth, TX   \n",
       "3                      Albuquerque, NM                  Dallas/Fort Worth, TX   \n",
       "4                      Albuquerque, NM                            Phoenix, AZ   \n",
       "...                                ...                                    ...   \n",
       "245950                   Knoxville, TN  New York City, NY (Metropolitan Area)   \n",
       "245951                   Knoxville, TN          Miami, FL (Metropolitan Area)   \n",
       "245952                   Knoxville, TN          Miami, FL (Metropolitan Area)   \n",
       "245953                   Knoxville, TN          Tampa, FL (Metropolitan Area)   \n",
       "245954                   Knoxville, TN          Tampa, FL (Metropolitan Area)   \n",
       "\n",
       "        airportid_1  airportid_2 airport_1 airport_2  nsmiles  passengers  \\\n",
       "0             10135        14112       ABE       PIE      970         180   \n",
       "1             10135        15304       ABE       TPA      970          19   \n",
       "2             10140        11259       ABQ       DAL      580         204   \n",
       "3             10140        11298       ABQ       DFW      580         264   \n",
       "4             10140        14107       ABQ       PHX      328         398   \n",
       "...             ...          ...       ...       ...      ...         ...   \n",
       "245950        15412        12953       TYS       LGA      665         207   \n",
       "245951        15412        11697       TYS       FLL      724         277   \n",
       "245952        15412        13303       TYS       MIA      724          70   \n",
       "245953        15412        14112       TYS       PIE      550         178   \n",
       "245954        15412        15304       TYS       TPA      550          57   \n",
       "\n",
       "          fare carrier_lg  \n",
       "0        81.43         G4  \n",
       "1       208.93         DL  \n",
       "2       184.56         WN  \n",
       "3       182.64         AA  \n",
       "4       177.11         WN  \n",
       "...        ...        ...  \n",
       "245950  278.70         DL  \n",
       "245951  148.69         G4  \n",
       "245952  330.19         AA  \n",
       "245953   95.65         G4  \n",
       "245954  330.15         AA  \n",
       "\n",
       "[245955 rows x 15 columns]"
      ]
     },
     "execution_count": 4,
     "metadata": {},
     "output_type": "execute_result"
    }
   ],
   "source": [
    "df.iloc[:,:15]"
   ]
  },
  {
   "cell_type": "code",
   "execution_count": 5,
   "id": "e8b85309",
   "metadata": {
    "execution": {
     "iopub.execute_input": "2025-04-16T19:11:05.300615Z",
     "iopub.status.busy": "2025-04-16T19:11:05.300200Z",
     "iopub.status.idle": "2025-04-16T19:11:05.308840Z",
     "shell.execute_reply": "2025-04-16T19:11:05.307699Z"
    },
    "papermill": {
     "duration": 0.035615,
     "end_time": "2025-04-16T19:11:05.311171",
     "exception": false,
     "start_time": "2025-04-16T19:11:05.275556",
     "status": "completed"
    },
    "tags": []
   },
   "outputs": [
    {
     "data": {
      "text/plain": [
       "tbl                object\n",
       "Year                int64\n",
       "quarter             int64\n",
       "citymarketid_1      int64\n",
       "citymarketid_2      int64\n",
       "city1              object\n",
       "city2              object\n",
       "airportid_1         int64\n",
       "airportid_2         int64\n",
       "airport_1          object\n",
       "airport_2          object\n",
       "nsmiles             int64\n",
       "passengers          int64\n",
       "fare              float64\n",
       "carrier_lg         object\n",
       "large_ms          float64\n",
       "fare_lg           float64\n",
       "carrier_low        object\n",
       "lf_ms             float64\n",
       "fare_low          float64\n",
       "Geocoded_City1     object\n",
       "Geocoded_City2     object\n",
       "tbl1apk            object\n",
       "dtype: object"
      ]
     },
     "execution_count": 5,
     "metadata": {},
     "output_type": "execute_result"
    }
   ],
   "source": [
    "df.dtypes"
   ]
  },
  {
   "cell_type": "code",
   "execution_count": 6,
   "id": "e8c57b74",
   "metadata": {
    "execution": {
     "iopub.execute_input": "2025-04-16T19:11:05.358525Z",
     "iopub.status.busy": "2025-04-16T19:11:05.358103Z",
     "iopub.status.idle": "2025-04-16T19:11:05.486671Z",
     "shell.execute_reply": "2025-04-16T19:11:05.485449Z"
    },
    "papermill": {
     "duration": 0.155407,
     "end_time": "2025-04-16T19:11:05.489596",
     "exception": false,
     "start_time": "2025-04-16T19:11:05.334189",
     "status": "completed"
    },
    "tags": []
   },
   "outputs": [
    {
     "data": {
      "text/plain": [
       "tbl                0.000000\n",
       "Year               0.000000\n",
       "quarter            0.000000\n",
       "citymarketid_1     0.000000\n",
       "citymarketid_2     0.000000\n",
       "city1              0.000000\n",
       "city2              0.000000\n",
       "airportid_1        0.000000\n",
       "airportid_2        0.000000\n",
       "airport_1          0.000000\n",
       "airport_2          0.000000\n",
       "nsmiles            0.000000\n",
       "passengers         0.000000\n",
       "fare               0.000000\n",
       "carrier_lg         0.626131\n",
       "large_ms           0.626131\n",
       "fare_lg            0.626131\n",
       "carrier_low        0.655404\n",
       "lf_ms              0.655404\n",
       "fare_low           0.655404\n",
       "Geocoded_City1    15.940314\n",
       "Geocoded_City2    15.940314\n",
       "tbl1apk            0.000000\n",
       "dtype: float64"
      ]
     },
     "execution_count": 6,
     "metadata": {},
     "output_type": "execute_result"
    }
   ],
   "source": [
    "df.isnull().mean()*100"
   ]
  },
  {
   "cell_type": "code",
   "execution_count": 7,
   "id": "b50b97b3",
   "metadata": {
    "execution": {
     "iopub.execute_input": "2025-04-16T19:11:05.537109Z",
     "iopub.status.busy": "2025-04-16T19:11:05.536673Z",
     "iopub.status.idle": "2025-04-16T19:11:05.732730Z",
     "shell.execute_reply": "2025-04-16T19:11:05.731380Z"
    },
    "papermill": {
     "duration": 0.222586,
     "end_time": "2025-04-16T19:11:05.735169",
     "exception": false,
     "start_time": "2025-04-16T19:11:05.512583",
     "status": "completed"
    },
    "tags": []
   },
   "outputs": [
    {
     "data": {
      "text/html": [
       "<div>\n",
       "<style scoped>\n",
       "    .dataframe tbody tr th:only-of-type {\n",
       "        vertical-align: middle;\n",
       "    }\n",
       "\n",
       "    .dataframe tbody tr th {\n",
       "        vertical-align: top;\n",
       "    }\n",
       "\n",
       "    .dataframe thead th {\n",
       "        text-align: right;\n",
       "    }\n",
       "</style>\n",
       "<table border=\"1\" class=\"dataframe\">\n",
       "  <thead>\n",
       "    <tr style=\"text-align: right;\">\n",
       "      <th></th>\n",
       "      <th>Year</th>\n",
       "      <th>quarter</th>\n",
       "      <th>citymarketid_1</th>\n",
       "      <th>citymarketid_2</th>\n",
       "      <th>airportid_1</th>\n",
       "      <th>airportid_2</th>\n",
       "      <th>nsmiles</th>\n",
       "      <th>passengers</th>\n",
       "      <th>fare</th>\n",
       "      <th>large_ms</th>\n",
       "      <th>fare_lg</th>\n",
       "      <th>lf_ms</th>\n",
       "      <th>fare_low</th>\n",
       "    </tr>\n",
       "  </thead>\n",
       "  <tbody>\n",
       "    <tr>\n",
       "      <th>count</th>\n",
       "      <td>245955.000000</td>\n",
       "      <td>245955.000000</td>\n",
       "      <td>245955.000000</td>\n",
       "      <td>245955.000000</td>\n",
       "      <td>245955.000000</td>\n",
       "      <td>245955.000000</td>\n",
       "      <td>245955.000000</td>\n",
       "      <td>245955.000000</td>\n",
       "      <td>245955.000000</td>\n",
       "      <td>244415.000000</td>\n",
       "      <td>244415.000000</td>\n",
       "      <td>244343.000000</td>\n",
       "      <td>244343.000000</td>\n",
       "    </tr>\n",
       "    <tr>\n",
       "      <th>mean</th>\n",
       "      <td>2008.524124</td>\n",
       "      <td>2.479153</td>\n",
       "      <td>31556.430201</td>\n",
       "      <td>32180.117086</td>\n",
       "      <td>12437.099986</td>\n",
       "      <td>13249.889525</td>\n",
       "      <td>1189.812319</td>\n",
       "      <td>299.476795</td>\n",
       "      <td>218.979587</td>\n",
       "      <td>0.665252</td>\n",
       "      <td>218.710963</td>\n",
       "      <td>0.450438</td>\n",
       "      <td>190.675939</td>\n",
       "    </tr>\n",
       "    <tr>\n",
       "      <th>std</th>\n",
       "      <td>8.703364</td>\n",
       "      <td>1.122149</td>\n",
       "      <td>1089.872880</td>\n",
       "      <td>1232.464184</td>\n",
       "      <td>1431.665257</td>\n",
       "      <td>1425.810159</td>\n",
       "      <td>703.143472</td>\n",
       "      <td>511.389486</td>\n",
       "      <td>82.372486</td>\n",
       "      <td>0.224635</td>\n",
       "      <td>84.674363</td>\n",
       "      <td>0.332669</td>\n",
       "      <td>73.577694</td>\n",
       "    </tr>\n",
       "    <tr>\n",
       "      <th>min</th>\n",
       "      <td>1993.000000</td>\n",
       "      <td>1.000000</td>\n",
       "      <td>30135.000000</td>\n",
       "      <td>30189.000000</td>\n",
       "      <td>10135.000000</td>\n",
       "      <td>10466.000000</td>\n",
       "      <td>109.000000</td>\n",
       "      <td>0.000000</td>\n",
       "      <td>50.000000</td>\n",
       "      <td>0.003800</td>\n",
       "      <td>50.000000</td>\n",
       "      <td>0.010000</td>\n",
       "      <td>50.000000</td>\n",
       "    </tr>\n",
       "    <tr>\n",
       "      <th>25%</th>\n",
       "      <td>2001.000000</td>\n",
       "      <td>1.000000</td>\n",
       "      <td>30721.000000</td>\n",
       "      <td>30994.000000</td>\n",
       "      <td>11193.000000</td>\n",
       "      <td>12197.000000</td>\n",
       "      <td>626.000000</td>\n",
       "      <td>21.000000</td>\n",
       "      <td>164.620000</td>\n",
       "      <td>0.480000</td>\n",
       "      <td>161.500000</td>\n",
       "      <td>0.158000</td>\n",
       "      <td>140.060000</td>\n",
       "    </tr>\n",
       "    <tr>\n",
       "      <th>50%</th>\n",
       "      <td>2008.000000</td>\n",
       "      <td>2.000000</td>\n",
       "      <td>31423.000000</td>\n",
       "      <td>32211.000000</td>\n",
       "      <td>12266.000000</td>\n",
       "      <td>13303.000000</td>\n",
       "      <td>1023.000000</td>\n",
       "      <td>113.000000</td>\n",
       "      <td>209.320000</td>\n",
       "      <td>0.652400</td>\n",
       "      <td>208.030000</td>\n",
       "      <td>0.360000</td>\n",
       "      <td>181.630000</td>\n",
       "    </tr>\n",
       "    <tr>\n",
       "      <th>75%</th>\n",
       "      <td>2016.000000</td>\n",
       "      <td>3.000000</td>\n",
       "      <td>32467.000000</td>\n",
       "      <td>33192.000000</td>\n",
       "      <td>13487.000000</td>\n",
       "      <td>14679.000000</td>\n",
       "      <td>1736.000000</td>\n",
       "      <td>339.000000</td>\n",
       "      <td>262.890000</td>\n",
       "      <td>0.871900</td>\n",
       "      <td>263.640000</td>\n",
       "      <td>0.750000</td>\n",
       "      <td>230.040000</td>\n",
       "    </tr>\n",
       "    <tr>\n",
       "      <th>max</th>\n",
       "      <td>2024.000000</td>\n",
       "      <td>4.000000</td>\n",
       "      <td>35412.000000</td>\n",
       "      <td>35628.000000</td>\n",
       "      <td>16440.000000</td>\n",
       "      <td>15919.000000</td>\n",
       "      <td>2724.000000</td>\n",
       "      <td>8301.000000</td>\n",
       "      <td>3377.000000</td>\n",
       "      <td>1.000000</td>\n",
       "      <td>2725.600000</td>\n",
       "      <td>1.000000</td>\n",
       "      <td>2725.600000</td>\n",
       "    </tr>\n",
       "  </tbody>\n",
       "</table>\n",
       "</div>"
      ],
      "text/plain": [
       "                Year        quarter  citymarketid_1  citymarketid_2  \\\n",
       "count  245955.000000  245955.000000   245955.000000   245955.000000   \n",
       "mean     2008.524124       2.479153    31556.430201    32180.117086   \n",
       "std         8.703364       1.122149     1089.872880     1232.464184   \n",
       "min      1993.000000       1.000000    30135.000000    30189.000000   \n",
       "25%      2001.000000       1.000000    30721.000000    30994.000000   \n",
       "50%      2008.000000       2.000000    31423.000000    32211.000000   \n",
       "75%      2016.000000       3.000000    32467.000000    33192.000000   \n",
       "max      2024.000000       4.000000    35412.000000    35628.000000   \n",
       "\n",
       "         airportid_1    airportid_2        nsmiles     passengers  \\\n",
       "count  245955.000000  245955.000000  245955.000000  245955.000000   \n",
       "mean    12437.099986   13249.889525    1189.812319     299.476795   \n",
       "std      1431.665257    1425.810159     703.143472     511.389486   \n",
       "min     10135.000000   10466.000000     109.000000       0.000000   \n",
       "25%     11193.000000   12197.000000     626.000000      21.000000   \n",
       "50%     12266.000000   13303.000000    1023.000000     113.000000   \n",
       "75%     13487.000000   14679.000000    1736.000000     339.000000   \n",
       "max     16440.000000   15919.000000    2724.000000    8301.000000   \n",
       "\n",
       "                fare       large_ms        fare_lg          lf_ms  \\\n",
       "count  245955.000000  244415.000000  244415.000000  244343.000000   \n",
       "mean      218.979587       0.665252     218.710963       0.450438   \n",
       "std        82.372486       0.224635      84.674363       0.332669   \n",
       "min        50.000000       0.003800      50.000000       0.010000   \n",
       "25%       164.620000       0.480000     161.500000       0.158000   \n",
       "50%       209.320000       0.652400     208.030000       0.360000   \n",
       "75%       262.890000       0.871900     263.640000       0.750000   \n",
       "max      3377.000000       1.000000    2725.600000       1.000000   \n",
       "\n",
       "            fare_low  \n",
       "count  244343.000000  \n",
       "mean      190.675939  \n",
       "std        73.577694  \n",
       "min        50.000000  \n",
       "25%       140.060000  \n",
       "50%       181.630000  \n",
       "75%       230.040000  \n",
       "max      2725.600000  "
      ]
     },
     "execution_count": 7,
     "metadata": {},
     "output_type": "execute_result"
    }
   ],
   "source": [
    "df.describe()"
   ]
  },
  {
   "cell_type": "code",
   "execution_count": 8,
   "id": "6dcbdb21",
   "metadata": {
    "execution": {
     "iopub.execute_input": "2025-04-16T19:11:05.785982Z",
     "iopub.status.busy": "2025-04-16T19:11:05.785582Z",
     "iopub.status.idle": "2025-04-16T19:11:05.935675Z",
     "shell.execute_reply": "2025-04-16T19:11:05.934485Z"
    },
    "papermill": {
     "duration": 0.17849,
     "end_time": "2025-04-16T19:11:05.938326",
     "exception": false,
     "start_time": "2025-04-16T19:11:05.759836",
     "status": "completed"
    },
    "tags": []
   },
   "outputs": [
    {
     "data": {
      "text/html": [
       "<div>\n",
       "<style scoped>\n",
       "    .dataframe tbody tr th:only-of-type {\n",
       "        vertical-align: middle;\n",
       "    }\n",
       "\n",
       "    .dataframe tbody tr th {\n",
       "        vertical-align: top;\n",
       "    }\n",
       "\n",
       "    .dataframe thead th {\n",
       "        text-align: right;\n",
       "    }\n",
       "</style>\n",
       "<table border=\"1\" class=\"dataframe\">\n",
       "  <thead>\n",
       "    <tr style=\"text-align: right;\">\n",
       "      <th></th>\n",
       "      <th>Year</th>\n",
       "      <th>quarter</th>\n",
       "      <th>citymarketid_1</th>\n",
       "      <th>citymarketid_2</th>\n",
       "      <th>airportid_1</th>\n",
       "      <th>airportid_2</th>\n",
       "      <th>nsmiles</th>\n",
       "      <th>passengers</th>\n",
       "      <th>fare</th>\n",
       "      <th>large_ms</th>\n",
       "      <th>fare_lg</th>\n",
       "      <th>lf_ms</th>\n",
       "      <th>fare_low</th>\n",
       "    </tr>\n",
       "  </thead>\n",
       "  <tbody>\n",
       "    <tr>\n",
       "      <th>Year</th>\n",
       "      <td>1.000000</td>\n",
       "      <td>0.006125</td>\n",
       "      <td>-0.000373</td>\n",
       "      <td>-0.007119</td>\n",
       "      <td>-0.009018</td>\n",
       "      <td>-0.016622</td>\n",
       "      <td>0.018843</td>\n",
       "      <td>0.086214</td>\n",
       "      <td>0.151058</td>\n",
       "      <td>0.105231</td>\n",
       "      <td>0.154496</td>\n",
       "      <td>0.102918</td>\n",
       "      <td>0.174297</td>\n",
       "    </tr>\n",
       "    <tr>\n",
       "      <th>quarter</th>\n",
       "      <td>0.006125</td>\n",
       "      <td>1.000000</td>\n",
       "      <td>0.000384</td>\n",
       "      <td>0.003282</td>\n",
       "      <td>0.000650</td>\n",
       "      <td>0.000613</td>\n",
       "      <td>0.000205</td>\n",
       "      <td>0.016498</td>\n",
       "      <td>-0.026186</td>\n",
       "      <td>-0.000968</td>\n",
       "      <td>-0.024517</td>\n",
       "      <td>-0.000426</td>\n",
       "      <td>-0.015940</td>\n",
       "    </tr>\n",
       "    <tr>\n",
       "      <th>citymarketid_1</th>\n",
       "      <td>-0.000373</td>\n",
       "      <td>0.000384</td>\n",
       "      <td>1.000000</td>\n",
       "      <td>0.007237</td>\n",
       "      <td>0.526658</td>\n",
       "      <td>0.061771</td>\n",
       "      <td>0.104284</td>\n",
       "      <td>-0.043699</td>\n",
       "      <td>0.044420</td>\n",
       "      <td>-0.119061</td>\n",
       "      <td>0.036973</td>\n",
       "      <td>-0.056508</td>\n",
       "      <td>0.033375</td>\n",
       "    </tr>\n",
       "    <tr>\n",
       "      <th>citymarketid_2</th>\n",
       "      <td>-0.007119</td>\n",
       "      <td>0.003282</td>\n",
       "      <td>0.007237</td>\n",
       "      <td>1.000000</td>\n",
       "      <td>0.043398</td>\n",
       "      <td>0.537673</td>\n",
       "      <td>0.091133</td>\n",
       "      <td>-0.090974</td>\n",
       "      <td>0.014113</td>\n",
       "      <td>-0.024305</td>\n",
       "      <td>0.009706</td>\n",
       "      <td>0.021699</td>\n",
       "      <td>0.029288</td>\n",
       "    </tr>\n",
       "    <tr>\n",
       "      <th>airportid_1</th>\n",
       "      <td>-0.009018</td>\n",
       "      <td>0.000650</td>\n",
       "      <td>0.526658</td>\n",
       "      <td>0.043398</td>\n",
       "      <td>1.000000</td>\n",
       "      <td>0.067267</td>\n",
       "      <td>0.090738</td>\n",
       "      <td>-0.015663</td>\n",
       "      <td>0.035840</td>\n",
       "      <td>-0.104327</td>\n",
       "      <td>0.026997</td>\n",
       "      <td>-0.036139</td>\n",
       "      <td>0.038183</td>\n",
       "    </tr>\n",
       "    <tr>\n",
       "      <th>airportid_2</th>\n",
       "      <td>-0.016622</td>\n",
       "      <td>0.000613</td>\n",
       "      <td>0.061771</td>\n",
       "      <td>0.537673</td>\n",
       "      <td>0.067267</td>\n",
       "      <td>1.000000</td>\n",
       "      <td>0.182279</td>\n",
       "      <td>-0.017792</td>\n",
       "      <td>0.053326</td>\n",
       "      <td>-0.084999</td>\n",
       "      <td>0.046269</td>\n",
       "      <td>-0.021996</td>\n",
       "      <td>0.056120</td>\n",
       "    </tr>\n",
       "    <tr>\n",
       "      <th>nsmiles</th>\n",
       "      <td>0.018843</td>\n",
       "      <td>0.000205</td>\n",
       "      <td>0.104284</td>\n",
       "      <td>0.091133</td>\n",
       "      <td>0.090738</td>\n",
       "      <td>0.182279</td>\n",
       "      <td>1.000000</td>\n",
       "      <td>-0.079008</td>\n",
       "      <td>0.500407</td>\n",
       "      <td>-0.400557</td>\n",
       "      <td>0.483488</td>\n",
       "      <td>-0.252953</td>\n",
       "      <td>0.416711</td>\n",
       "    </tr>\n",
       "    <tr>\n",
       "      <th>passengers</th>\n",
       "      <td>0.086214</td>\n",
       "      <td>0.016498</td>\n",
       "      <td>-0.043699</td>\n",
       "      <td>-0.090974</td>\n",
       "      <td>-0.015663</td>\n",
       "      <td>-0.017792</td>\n",
       "      <td>-0.079008</td>\n",
       "      <td>1.000000</td>\n",
       "      <td>-0.171460</td>\n",
       "      <td>-0.077901</td>\n",
       "      <td>-0.126955</td>\n",
       "      <td>-0.123004</td>\n",
       "      <td>-0.205293</td>\n",
       "    </tr>\n",
       "    <tr>\n",
       "      <th>fare</th>\n",
       "      <td>0.151058</td>\n",
       "      <td>-0.026186</td>\n",
       "      <td>0.044420</td>\n",
       "      <td>0.014113</td>\n",
       "      <td>0.035840</td>\n",
       "      <td>0.053326</td>\n",
       "      <td>0.500407</td>\n",
       "      <td>-0.171460</td>\n",
       "      <td>1.000000</td>\n",
       "      <td>-0.182312</td>\n",
       "      <td>0.955984</td>\n",
       "      <td>-0.188844</td>\n",
       "      <td>0.874653</td>\n",
       "    </tr>\n",
       "    <tr>\n",
       "      <th>large_ms</th>\n",
       "      <td>0.105231</td>\n",
       "      <td>-0.000968</td>\n",
       "      <td>-0.119061</td>\n",
       "      <td>-0.024305</td>\n",
       "      <td>-0.104327</td>\n",
       "      <td>-0.084999</td>\n",
       "      <td>-0.400557</td>\n",
       "      <td>-0.077901</td>\n",
       "      <td>-0.182312</td>\n",
       "      <td>1.000000</td>\n",
       "      <td>-0.178428</td>\n",
       "      <td>0.532854</td>\n",
       "      <td>-0.082080</td>\n",
       "    </tr>\n",
       "    <tr>\n",
       "      <th>fare_lg</th>\n",
       "      <td>0.154496</td>\n",
       "      <td>-0.024517</td>\n",
       "      <td>0.036973</td>\n",
       "      <td>0.009706</td>\n",
       "      <td>0.026997</td>\n",
       "      <td>0.046269</td>\n",
       "      <td>0.483488</td>\n",
       "      <td>-0.126955</td>\n",
       "      <td>0.955984</td>\n",
       "      <td>-0.178428</td>\n",
       "      <td>1.000000</td>\n",
       "      <td>-0.235630</td>\n",
       "      <td>0.828050</td>\n",
       "    </tr>\n",
       "    <tr>\n",
       "      <th>lf_ms</th>\n",
       "      <td>0.102918</td>\n",
       "      <td>-0.000426</td>\n",
       "      <td>-0.056508</td>\n",
       "      <td>0.021699</td>\n",
       "      <td>-0.036139</td>\n",
       "      <td>-0.021996</td>\n",
       "      <td>-0.252953</td>\n",
       "      <td>-0.123004</td>\n",
       "      <td>-0.188844</td>\n",
       "      <td>0.532854</td>\n",
       "      <td>-0.235630</td>\n",
       "      <td>1.000000</td>\n",
       "      <td>0.057286</td>\n",
       "    </tr>\n",
       "    <tr>\n",
       "      <th>fare_low</th>\n",
       "      <td>0.174297</td>\n",
       "      <td>-0.015940</td>\n",
       "      <td>0.033375</td>\n",
       "      <td>0.029288</td>\n",
       "      <td>0.038183</td>\n",
       "      <td>0.056120</td>\n",
       "      <td>0.416711</td>\n",
       "      <td>-0.205293</td>\n",
       "      <td>0.874653</td>\n",
       "      <td>-0.082080</td>\n",
       "      <td>0.828050</td>\n",
       "      <td>0.057286</td>\n",
       "      <td>1.000000</td>\n",
       "    </tr>\n",
       "  </tbody>\n",
       "</table>\n",
       "</div>"
      ],
      "text/plain": [
       "                    Year   quarter  citymarketid_1  citymarketid_2  \\\n",
       "Year            1.000000  0.006125       -0.000373       -0.007119   \n",
       "quarter         0.006125  1.000000        0.000384        0.003282   \n",
       "citymarketid_1 -0.000373  0.000384        1.000000        0.007237   \n",
       "citymarketid_2 -0.007119  0.003282        0.007237        1.000000   \n",
       "airportid_1    -0.009018  0.000650        0.526658        0.043398   \n",
       "airportid_2    -0.016622  0.000613        0.061771        0.537673   \n",
       "nsmiles         0.018843  0.000205        0.104284        0.091133   \n",
       "passengers      0.086214  0.016498       -0.043699       -0.090974   \n",
       "fare            0.151058 -0.026186        0.044420        0.014113   \n",
       "large_ms        0.105231 -0.000968       -0.119061       -0.024305   \n",
       "fare_lg         0.154496 -0.024517        0.036973        0.009706   \n",
       "lf_ms           0.102918 -0.000426       -0.056508        0.021699   \n",
       "fare_low        0.174297 -0.015940        0.033375        0.029288   \n",
       "\n",
       "                airportid_1  airportid_2   nsmiles  passengers      fare  \\\n",
       "Year              -0.009018    -0.016622  0.018843    0.086214  0.151058   \n",
       "quarter            0.000650     0.000613  0.000205    0.016498 -0.026186   \n",
       "citymarketid_1     0.526658     0.061771  0.104284   -0.043699  0.044420   \n",
       "citymarketid_2     0.043398     0.537673  0.091133   -0.090974  0.014113   \n",
       "airportid_1        1.000000     0.067267  0.090738   -0.015663  0.035840   \n",
       "airportid_2        0.067267     1.000000  0.182279   -0.017792  0.053326   \n",
       "nsmiles            0.090738     0.182279  1.000000   -0.079008  0.500407   \n",
       "passengers        -0.015663    -0.017792 -0.079008    1.000000 -0.171460   \n",
       "fare               0.035840     0.053326  0.500407   -0.171460  1.000000   \n",
       "large_ms          -0.104327    -0.084999 -0.400557   -0.077901 -0.182312   \n",
       "fare_lg            0.026997     0.046269  0.483488   -0.126955  0.955984   \n",
       "lf_ms             -0.036139    -0.021996 -0.252953   -0.123004 -0.188844   \n",
       "fare_low           0.038183     0.056120  0.416711   -0.205293  0.874653   \n",
       "\n",
       "                large_ms   fare_lg     lf_ms  fare_low  \n",
       "Year            0.105231  0.154496  0.102918  0.174297  \n",
       "quarter        -0.000968 -0.024517 -0.000426 -0.015940  \n",
       "citymarketid_1 -0.119061  0.036973 -0.056508  0.033375  \n",
       "citymarketid_2 -0.024305  0.009706  0.021699  0.029288  \n",
       "airportid_1    -0.104327  0.026997 -0.036139  0.038183  \n",
       "airportid_2    -0.084999  0.046269 -0.021996  0.056120  \n",
       "nsmiles        -0.400557  0.483488 -0.252953  0.416711  \n",
       "passengers     -0.077901 -0.126955 -0.123004 -0.205293  \n",
       "fare           -0.182312  0.955984 -0.188844  0.874653  \n",
       "large_ms        1.000000 -0.178428  0.532854 -0.082080  \n",
       "fare_lg        -0.178428  1.000000 -0.235630  0.828050  \n",
       "lf_ms           0.532854 -0.235630  1.000000  0.057286  \n",
       "fare_low       -0.082080  0.828050  0.057286  1.000000  "
      ]
     },
     "execution_count": 8,
     "metadata": {},
     "output_type": "execute_result"
    }
   ],
   "source": [
    "df.corr(numeric_only=True)"
   ]
  },
  {
   "cell_type": "code",
   "execution_count": 9,
   "id": "4b6650ae",
   "metadata": {
    "execution": {
     "iopub.execute_input": "2025-04-16T19:11:05.990770Z",
     "iopub.status.busy": "2025-04-16T19:11:05.990312Z",
     "iopub.status.idle": "2025-04-16T19:11:08.745505Z",
     "shell.execute_reply": "2025-04-16T19:11:08.744200Z"
    },
    "papermill": {
     "duration": 2.78369,
     "end_time": "2025-04-16T19:11:08.747836",
     "exception": false,
     "start_time": "2025-04-16T19:11:05.964146",
     "status": "completed"
    },
    "tags": []
   },
   "outputs": [
    {
     "data": {
      "text/plain": [
       "<Axes: >"
      ]
     },
     "execution_count": 9,
     "metadata": {},
     "output_type": "execute_result"
    },
    {
     "data": {
      "image/png": "[encoded data removed]",
      "text/plain": [
       "<Figure size 640x480 with 2 Axes>"
      ]
     },
     "metadata": {},
     "output_type": "display_data"
    }
   ],
   "source": [
    "import seaborn as sns\n",
    "import matplotlib.pyplot as plt\n",
    "import warnings\n",
    "warnings.filterwarnings('ignore')\n",
    "sns.heatmap(df.corr(numeric_only=True),annot=True,fmt='.1f',linewidth=2,square=False)"
   ]
  },
  {
   "cell_type": "code",
   "execution_count": 10,
   "id": "610b2487",
   "metadata": {
    "execution": {
     "iopub.execute_input": "2025-04-16T19:11:08.802461Z",
     "iopub.status.busy": "2025-04-16T19:11:08.800879Z",
     "iopub.status.idle": "2025-04-16T19:11:13.827122Z",
     "shell.execute_reply": "2025-04-16T19:11:13.825455Z"
    },
    "papermill": {
     "duration": 5.055367,
     "end_time": "2025-04-16T19:11:13.829234",
     "exception": true,
     "start_time": "2025-04-16T19:11:08.773867",
     "status": "failed"
    },
    "tags": []
   },
   "outputs": [
    {
     "ename": "NameError",
     "evalue": "name 'chi2_contingency' is not defined",
     "output_type": "error",
     "traceback": [
      "\u001b[0;31m---------------------------------------------------------------------------\u001b[0m",
      "\u001b[0;31mNameError\u001b[0m                                 Traceback (most recent call last)",
      "Cell \u001b[0;32mIn[10], line 2\u001b[0m\n\u001b[1;32m      1\u001b[0m ct \u001b[38;5;241m=\u001b[39m pd\u001b[38;5;241m.\u001b[39mcrosstab(df[\u001b[38;5;124m'\u001b[39m\u001b[38;5;124mfare\u001b[39m\u001b[38;5;124m'\u001b[39m],df[\u001b[38;5;124m'\u001b[39m\u001b[38;5;124mnsmiles\u001b[39m\u001b[38;5;124m'\u001b[39m])\n\u001b[0;32m----> 2\u001b[0m pvalue \u001b[38;5;241m=\u001b[39m \u001b[43mchi2_contingency\u001b[49m(ct)\n\u001b[1;32m      3\u001b[0m \u001b[38;5;28mprint\u001b[39m(ct)\n\u001b[1;32m      4\u001b[0m \u001b[38;5;28mprint\u001b[39m(pvalue)\n",
      "\u001b[0;31mNameError\u001b[0m: name 'chi2_contingency' is not defined"
     ]
    }
   ],
   "source": [
    "ct = pd.crosstab(df['fare'],df['nsmiles'])\n",
    "pvalue = chi2_contingency(ct)\n",
    "print(ct)\n",
    "print(pvalue)"
   ]
  },
  {
   "cell_type": "code",
   "execution_count": null,
   "id": "d888a556",
   "metadata": {
    "execution": {
     "iopub.execute_input": "2024-11-26T07:22:32.679827Z",
     "iopub.status.busy": "2024-11-26T07:22:32.679407Z",
     "iopub.status.idle": "2024-11-26T07:22:32.719332Z",
     "shell.execute_reply": "2024-11-26T07:22:32.718141Z",
     "shell.execute_reply.started": "2024-11-26T07:22:32.679789Z"
    },
    "papermill": {
     "duration": null,
     "end_time": null,
     "exception": null,
     "start_time": null,
     "status": "pending"
    },
    "tags": []
   },
   "outputs": [],
   "source": [
    "df = df.rename(columns={'tbl':'Table_ID','citymarketid_1':'Origin_City_ID','citymarketid_2':'Destination_City_ID','city1':'Origin_City','city2':'Destination_City','airportid_1':'Origin_Airport_ID','airportid_2':'Destination_Airport_ID','airport_1':'Origin_Airport_Code','lf_ms':'LowestCarrier_MarketShare','airport_2':'Destination_Airport_Code','nsmiles':'Distance_Btwn_Airport_Miles','carrier_lg':'Code_for_largest_carrier','fare_lg':'largest_carrier_average_fare','tbl1apk':'Route_ID'})"
   ]
  },
  {
   "cell_type": "code",
   "execution_count": null,
   "id": "b14fedb2",
   "metadata": {
    "execution": {
     "iopub.execute_input": "2024-11-26T07:22:36.010688Z",
     "iopub.status.busy": "2024-11-26T07:22:36.010143Z",
     "iopub.status.idle": "2024-11-26T07:22:36.333067Z",
     "shell.execute_reply": "2024-11-26T07:22:36.332038Z",
     "shell.execute_reply.started": "2024-11-26T07:22:36.010621Z"
    },
    "papermill": {
     "duration": null,
     "end_time": null,
     "exception": null,
     "start_time": null,
     "status": "pending"
    },
    "tags": []
   },
   "outputs": [],
   "source": [
    "def extract_OriginCity(origincity):\n",
    "    if pd.isna(origincity):\n",
    "        return 'NA'\n",
    "    parts = origincity.split(',')\n",
    "    if len(parts)>0:\n",
    "        return parts [-2].strip()\n",
    "    else:\n",
    "        return 'NA'\n",
    "df['OriginCity'] = df['Origin_City'].apply(extract_OriginCity)\n",
    "OriginCity_value_counts = df['OriginCity'].value_counts()\n",
    "print(OriginCity_value_counts)"
   ]
  },
  {
   "cell_type": "code",
   "execution_count": null,
   "id": "224f7145",
   "metadata": {
    "execution": {
     "iopub.execute_input": "2024-11-26T07:22:40.429636Z",
     "iopub.status.busy": "2024-11-26T07:22:40.429263Z",
     "iopub.status.idle": "2024-11-26T07:22:40.697809Z",
     "shell.execute_reply": "2024-11-26T07:22:40.696761Z",
     "shell.execute_reply.started": "2024-11-26T07:22:40.429601Z"
    },
    "papermill": {
     "duration": null,
     "end_time": null,
     "exception": null,
     "start_time": null,
     "status": "pending"
    },
    "tags": []
   },
   "outputs": [],
   "source": [
    "def extract_OriginState(originstate):\n",
    "    if pd.isna(originstate):\n",
    "        return 'NA'\n",
    "    parts = originstate.split(',')\n",
    "    if len(parts)>0:\n",
    "        \n",
    "        return parts [-1].strip()\n",
    "    else:\n",
    "        return 'NA'\n",
    "df['OriginState'] = df['Origin_City'].apply(extract_OriginState)\n",
    "DestinationState_value_counts = df['OriginState'].value_counts()\n",
    "print(DestinationState_value_counts)"
   ]
  },
  {
   "cell_type": "code",
   "execution_count": null,
   "id": "6678b0b6",
   "metadata": {
    "execution": {
     "iopub.execute_input": "2024-11-26T07:22:43.987612Z",
     "iopub.status.busy": "2024-11-26T07:22:43.987220Z",
     "iopub.status.idle": "2024-11-26T07:22:44.238145Z",
     "shell.execute_reply": "2024-11-26T07:22:44.237157Z",
     "shell.execute_reply.started": "2024-11-26T07:22:43.987557Z"
    },
    "papermill": {
     "duration": null,
     "end_time": null,
     "exception": null,
     "start_time": null,
     "status": "pending"
    },
    "tags": []
   },
   "outputs": [],
   "source": [
    "def extract_DestinationCity(destinationcity):\n",
    "    if pd.isna(destinationcity):\n",
    "        return 'NA'\n",
    "    parts = destinationcity.split(',')\n",
    "    if len(parts)>0:\n",
    "        return parts [-2].strip()\n",
    "        \n",
    "    else:\n",
    "        return 'NA'\n",
    "df['DestinationCity'] = df['Destination_City'].apply(extract_DestinationCity)\n",
    "DestinationCity_value_counts = df['DestinationCity'].value_counts()\n",
    "print(DestinationCity_value_counts)"
   ]
  },
  {
   "cell_type": "code",
   "execution_count": null,
   "id": "4f8b008d",
   "metadata": {
    "execution": {
     "iopub.execute_input": "2024-11-26T07:22:47.681610Z",
     "iopub.status.busy": "2024-11-26T07:22:47.681210Z",
     "iopub.status.idle": "2024-11-26T07:22:47.937938Z",
     "shell.execute_reply": "2024-11-26T07:22:47.936725Z",
     "shell.execute_reply.started": "2024-11-26T07:22:47.681575Z"
    },
    "papermill": {
     "duration": null,
     "end_time": null,
     "exception": null,
     "start_time": null,
     "status": "pending"
    },
    "tags": []
   },
   "outputs": [],
   "source": [
    "def extract_DestinationState(destinationstate):\n",
    "    if pd.isna(destinationstate):\n",
    "        return 'NA'\n",
    "    parts = destinationstate.split(',')\n",
    "    if len(parts)>0:\n",
    "        return parts [-1].strip()\n",
    "    else:\n",
    "        return 'NA'\n",
    "df['DestinationState'] = df['Destination_City'].apply(extract_DestinationState)\n",
    "DestinationState_value_counts = df['DestinationState'].value_counts()\n",
    "print(DestinationState_value_counts)"
   ]
  },
  {
   "cell_type": "code",
   "execution_count": null,
   "id": "c1a3e2a4",
   "metadata": {
    "execution": {
     "iopub.execute_input": "2024-11-26T07:22:50.854842Z",
     "iopub.status.busy": "2024-11-26T07:22:50.854421Z",
     "iopub.status.idle": "2024-11-26T07:22:50.922034Z",
     "shell.execute_reply": "2024-11-26T07:22:50.920802Z",
     "shell.execute_reply.started": "2024-11-26T07:22:50.854805Z"
    },
    "papermill": {
     "duration": null,
     "end_time": null,
     "exception": null,
     "start_time": null,
     "status": "pending"
    },
    "tags": []
   },
   "outputs": [],
   "source": [
    "df = df.drop(columns=['Origin_City','Destination_City','Route_ID','Table_ID'],axis=1)"
   ]
  },
  {
   "cell_type": "code",
   "execution_count": null,
   "id": "c6882397",
   "metadata": {
    "execution": {
     "iopub.execute_input": "2024-11-19T20:34:29.142265Z",
     "iopub.status.busy": "2024-11-19T20:34:29.141844Z",
     "iopub.status.idle": "2024-11-19T20:34:29.150846Z",
     "shell.execute_reply": "2024-11-19T20:34:29.149726Z",
     "shell.execute_reply.started": "2024-11-19T20:34:29.142228Z"
    },
    "papermill": {
     "duration": null,
     "end_time": null,
     "exception": null,
     "start_time": null,
     "status": "pending"
    },
    "tags": []
   },
   "outputs": [],
   "source": [
    "df.dtypes"
   ]
  },
  {
   "cell_type": "code",
   "execution_count": null,
   "id": "1cbf488a",
   "metadata": {
    "execution": {
     "iopub.execute_input": "2024-11-19T17:36:23.342879Z",
     "iopub.status.busy": "2024-11-19T17:36:23.342473Z",
     "iopub.status.idle": "2024-11-19T17:36:23.352447Z",
     "shell.execute_reply": "2024-11-19T17:36:23.350978Z",
     "shell.execute_reply.started": "2024-11-19T17:36:23.342842Z"
    },
    "papermill": {
     "duration": null,
     "end_time": null,
     "exception": null,
     "start_time": null,
     "status": "pending"
    },
    "tags": []
   },
   "outputs": [],
   "source": [
    "X = df[['Year','quarter','Distance_Btwn_Airport_Miles','fare_low','fare','LowestCarrier_MarketShare','largest_carrier_average_fare','large_ms','passengers']]"
   ]
  },
  {
   "cell_type": "code",
   "execution_count": null,
   "id": "22a054c3",
   "metadata": {
    "execution": {
     "iopub.execute_input": "2024-11-16T20:20:06.804168Z",
     "iopub.status.busy": "2024-11-16T20:20:06.803594Z",
     "iopub.status.idle": "2024-11-16T20:20:16.784903Z",
     "shell.execute_reply": "2024-11-16T20:20:16.783784Z",
     "shell.execute_reply.started": "2024-11-16T20:20:06.804114Z"
    },
    "papermill": {
     "duration": null,
     "end_time": null,
     "exception": null,
     "start_time": null,
     "status": "pending"
    },
    "tags": []
   },
   "outputs": [],
   "source": [
    "cols = X.columns\n",
    "for columns in cols:\n",
    "    fig, axs = plt.subplots(figsize=(2,2))\n",
    "    sns.histplot(X[columns])"
   ]
  },
  {
   "cell_type": "code",
   "execution_count": null,
   "id": "f0e12e30",
   "metadata": {
    "execution": {
     "iopub.execute_input": "2024-11-16T20:21:10.957112Z",
     "iopub.status.busy": "2024-11-16T20:21:10.956554Z",
     "iopub.status.idle": "2024-11-16T20:21:21.993773Z",
     "shell.execute_reply": "2024-11-16T20:21:21.992643Z",
     "shell.execute_reply.started": "2024-11-16T20:21:10.957060Z"
    },
    "papermill": {
     "duration": null,
     "end_time": null,
     "exception": null,
     "start_time": null,
     "status": "pending"
    },
    "tags": []
   },
   "outputs": [],
   "source": [
    "cols = X.columns\n",
    "for columns in cols:\n",
    "    fig, axs = plt.subplots(figsize=(2,2))\n",
    "    sns.kdeplot(X[columns])"
   ]
  },
  {
   "cell_type": "code",
   "execution_count": null,
   "id": "ae52849a",
   "metadata": {
    "execution": {
     "iopub.execute_input": "2024-11-16T20:21:33.169733Z",
     "iopub.status.busy": "2024-11-16T20:21:33.169341Z",
     "iopub.status.idle": "2024-11-16T20:21:34.502262Z",
     "shell.execute_reply": "2024-11-16T20:21:34.501115Z",
     "shell.execute_reply.started": "2024-11-16T20:21:33.169696Z"
    },
    "papermill": {
     "duration": null,
     "end_time": null,
     "exception": null,
     "start_time": null,
     "status": "pending"
    },
    "tags": []
   },
   "outputs": [],
   "source": [
    "cols = X.columns\n",
    "for columns in cols:\n",
    "    fig, axs = plt.subplots(figsize=(2,2))\n",
    "    sns.boxplot(X[columns])"
   ]
  },
  {
   "cell_type": "code",
   "execution_count": null,
   "id": "37edab48",
   "metadata": {
    "papermill": {
     "duration": null,
     "end_time": null,
     "exception": null,
     "start_time": null,
     "status": "pending"
    },
    "tags": []
   },
   "outputs": [],
   "source": []
  },
  {
   "cell_type": "code",
   "execution_count": null,
   "id": "85fc461b",
   "metadata": {
    "execution": {
     "iopub.execute_input": "2024-11-16T20:09:55.181629Z",
     "iopub.status.busy": "2024-11-16T20:09:55.181167Z",
     "iopub.status.idle": "2024-11-16T20:09:55.586100Z",
     "shell.execute_reply": "2024-11-16T20:09:55.585012Z",
     "shell.execute_reply.started": "2024-11-16T20:09:55.181590Z"
    },
    "papermill": {
     "duration": null,
     "end_time": null,
     "exception": null,
     "start_time": null,
     "status": "pending"
    },
    "tags": []
   },
   "outputs": [],
   "source": [
    "Top_Destination_City = df['DestinationCity'].value_counts().head(20)\n",
    "Top_Destination_City.plot(kind='bar')"
   ]
  },
  {
   "cell_type": "code",
   "execution_count": null,
   "id": "17fbf167",
   "metadata": {
    "execution": {
     "iopub.execute_input": "2024-11-16T20:22:41.949800Z",
     "iopub.status.busy": "2024-11-16T20:22:41.949199Z",
     "iopub.status.idle": "2024-11-16T20:22:42.343101Z",
     "shell.execute_reply": "2024-11-16T20:22:42.341941Z",
     "shell.execute_reply.started": "2024-11-16T20:22:41.949750Z"
    },
    "papermill": {
     "duration": null,
     "end_time": null,
     "exception": null,
     "start_time": null,
     "status": "pending"
    },
    "tags": []
   },
   "outputs": [],
   "source": [
    "Top_Destination_State = df['DestinationState'].value_counts().head(20)\n",
    "Top_Destination_State.plot(kind='bar')"
   ]
  },
  {
   "cell_type": "code",
   "execution_count": null,
   "id": "4faf4235",
   "metadata": {
    "execution": {
     "iopub.execute_input": "2024-11-16T20:12:10.149956Z",
     "iopub.status.busy": "2024-11-16T20:12:10.149360Z",
     "iopub.status.idle": "2024-11-16T20:12:10.882563Z",
     "shell.execute_reply": "2024-11-16T20:12:10.881174Z",
     "shell.execute_reply.started": "2024-11-16T20:12:10.149914Z"
    },
    "papermill": {
     "duration": null,
     "end_time": null,
     "exception": null,
     "start_time": null,
     "status": "pending"
    },
    "tags": []
   },
   "outputs": [],
   "source": [
    "import seaborn as sns\n",
    "import matplotlib.pyplot as plt\n",
    "sns.scatterplot(data=df,y='fare',x='Distance_Btwn_Airport_Miles')\n",
    "plt.show()"
   ]
  },
  {
   "cell_type": "code",
   "execution_count": null,
   "id": "a2e3b347",
   "metadata": {
    "execution": {
     "iopub.execute_input": "2024-11-16T20:14:35.154419Z",
     "iopub.status.busy": "2024-11-16T20:14:35.153972Z",
     "iopub.status.idle": "2024-11-16T20:14:37.602243Z",
     "shell.execute_reply": "2024-11-16T20:14:37.601113Z",
     "shell.execute_reply.started": "2024-11-16T20:14:35.154379Z"
    },
    "papermill": {
     "duration": null,
     "end_time": null,
     "exception": null,
     "start_time": null,
     "status": "pending"
    },
    "tags": []
   },
   "outputs": [],
   "source": [
    "sns.barplot(data=df,x='Year',y='fare')\n",
    "plt.show()"
   ]
  },
  {
   "cell_type": "code",
   "execution_count": null,
   "id": "2260f007",
   "metadata": {
    "execution": {
     "iopub.execute_input": "2024-11-16T20:25:15.022262Z",
     "iopub.status.busy": "2024-11-16T20:25:15.021813Z",
     "iopub.status.idle": "2024-11-16T20:25:15.030563Z",
     "shell.execute_reply": "2024-11-16T20:25:15.029226Z",
     "shell.execute_reply.started": "2024-11-16T20:25:15.022223Z"
    },
    "papermill": {
     "duration": null,
     "end_time": null,
     "exception": null,
     "start_time": null,
     "status": "pending"
    },
    "tags": []
   },
   "outputs": [],
   "source": [
    "df.columns"
   ]
  },
  {
   "cell_type": "code",
   "execution_count": null,
   "id": "a91f1f3e",
   "metadata": {
    "execution": {
     "iopub.execute_input": "2024-11-16T20:25:30.625810Z",
     "iopub.status.busy": "2024-11-16T20:25:30.625365Z",
     "iopub.status.idle": "2024-11-16T20:25:30.631569Z",
     "shell.execute_reply": "2024-11-16T20:25:30.630335Z",
     "shell.execute_reply.started": "2024-11-16T20:25:30.625770Z"
    },
    "papermill": {
     "duration": null,
     "end_time": null,
     "exception": null,
     "start_time": null,
     "status": "pending"
    },
    "tags": []
   },
   "outputs": [],
   "source": [
    "Group = df.groupby('OriginCity')"
   ]
  },
  {
   "cell_type": "code",
   "execution_count": null,
   "id": "db3c8ede",
   "metadata": {
    "execution": {
     "iopub.execute_input": "2024-11-16T20:26:46.866376Z",
     "iopub.status.busy": "2024-11-16T20:26:46.865920Z",
     "iopub.status.idle": "2024-11-16T20:27:00.438629Z",
     "shell.execute_reply": "2024-11-16T20:27:00.437333Z",
     "shell.execute_reply.started": "2024-11-16T20:26:46.866329Z"
    },
    "papermill": {
     "duration": null,
     "end_time": null,
     "exception": null,
     "start_time": null,
     "status": "pending"
    },
    "tags": []
   },
   "outputs": [],
   "source": [
    "df.groupby('OriginCity').sum()['fare'].sort_values(ascending=False)"
   ]
  },
  {
   "cell_type": "code",
   "execution_count": null,
   "id": "1a8245b9",
   "metadata": {
    "execution": {
     "iopub.execute_input": "2024-11-16T20:33:08.610946Z",
     "iopub.status.busy": "2024-11-16T20:33:08.610534Z",
     "iopub.status.idle": "2024-11-16T20:33:08.649263Z",
     "shell.execute_reply": "2024-11-16T20:33:08.648260Z",
     "shell.execute_reply.started": "2024-11-16T20:33:08.610910Z"
    },
    "papermill": {
     "duration": null,
     "end_time": null,
     "exception": null,
     "start_time": null,
     "status": "pending"
    },
    "tags": []
   },
   "outputs": [],
   "source": [
    "Top_cities_heighest_fare = df.groupby('OriginCity')['fare'].sum().nlargest(20).reset_index()\n",
    "Top_cities_heighest_fare"
   ]
  },
  {
   "cell_type": "code",
   "execution_count": null,
   "id": "d249eaef",
   "metadata": {
    "execution": {
     "iopub.execute_input": "2024-11-16T20:37:03.401374Z",
     "iopub.status.busy": "2024-11-16T20:37:03.400311Z",
     "iopub.status.idle": "2024-11-16T20:37:03.859713Z",
     "shell.execute_reply": "2024-11-16T20:37:03.858494Z",
     "shell.execute_reply.started": "2024-11-16T20:37:03.401326Z"
    },
    "papermill": {
     "duration": null,
     "end_time": null,
     "exception": null,
     "start_time": null,
     "status": "pending"
    },
    "tags": []
   },
   "outputs": [],
   "source": [
    "sns.barplot(data=Top_cities_heighest_fare, x='OriginCity',y='fare', palette='viridis')\n",
    "plt.title('Heigest fare in Origin City',fontsize=12)\n",
    "plt.xlabel('Origin Cities',fontsize=12)\n",
    "plt.ylabel('Fare',fontsize=12)\n",
    "plt.xticks(rotation=45,fontsize=8)\n",
    "plt.tight_layout()\n",
    "plt.show()"
   ]
  },
  {
   "cell_type": "code",
   "execution_count": null,
   "id": "c1857ba1",
   "metadata": {
    "execution": {
     "iopub.execute_input": "2024-11-16T20:38:34.721200Z",
     "iopub.status.busy": "2024-11-16T20:38:34.720153Z",
     "iopub.status.idle": "2024-11-16T20:38:48.261810Z",
     "shell.execute_reply": "2024-11-16T20:38:48.260655Z",
     "shell.execute_reply.started": "2024-11-16T20:38:34.721155Z"
    },
    "papermill": {
     "duration": null,
     "end_time": null,
     "exception": null,
     "start_time": null,
     "status": "pending"
    },
    "tags": []
   },
   "outputs": [],
   "source": [
    "df.groupby('OriginCity').sum()['passengers'].sort_values(ascending=False)"
   ]
  },
  {
   "cell_type": "code",
   "execution_count": null,
   "id": "c5d6a658",
   "metadata": {
    "execution": {
     "iopub.execute_input": "2024-11-16T21:24:25.844949Z",
     "iopub.status.busy": "2024-11-16T21:24:25.844545Z",
     "iopub.status.idle": "2024-11-16T21:24:30.709152Z",
     "shell.execute_reply": "2024-11-16T21:24:30.707928Z",
     "shell.execute_reply.started": "2024-11-16T21:24:25.844911Z"
    },
    "papermill": {
     "duration": null,
     "end_time": null,
     "exception": null,
     "start_time": null,
     "status": "pending"
    },
    "tags": []
   },
   "outputs": [],
   "source": [
    "df.groupby('Origin_Airport_Code').sum()['passengers'].nlargest(20).sort_values(ascending=False).plot(kind='pie',subplots=True)"
   ]
  },
  {
   "cell_type": "code",
   "execution_count": null,
   "id": "5397c521",
   "metadata": {
    "execution": {
     "iopub.execute_input": "2024-11-16T21:20:28.491108Z",
     "iopub.status.busy": "2024-11-16T21:20:28.490682Z",
     "iopub.status.idle": "2024-11-16T21:20:28.527510Z",
     "shell.execute_reply": "2024-11-16T21:20:28.526142Z",
     "shell.execute_reply.started": "2024-11-16T21:20:28.491069Z"
    },
    "papermill": {
     "duration": null,
     "end_time": null,
     "exception": null,
     "start_time": null,
     "status": "pending"
    },
    "tags": []
   },
   "outputs": [],
   "source": [
    "Top_busiest_airport_passengers = df.groupby('Origin_Airport_Code')['passengers'].sum().nlargest(20).reset_index()\n",
    "Top_busiest_airport_passengers"
   ]
  },
  {
   "cell_type": "code",
   "execution_count": null,
   "id": "adb19db7",
   "metadata": {
    "execution": {
     "iopub.execute_input": "2024-11-16T21:21:39.306875Z",
     "iopub.status.busy": "2024-11-16T21:21:39.306463Z",
     "iopub.status.idle": "2024-11-16T21:21:39.669782Z",
     "shell.execute_reply": "2024-11-16T21:21:39.668594Z",
     "shell.execute_reply.started": "2024-11-16T21:21:39.306840Z"
    },
    "papermill": {
     "duration": null,
     "end_time": null,
     "exception": null,
     "start_time": null,
     "status": "pending"
    },
    "tags": []
   },
   "outputs": [],
   "source": [
    "sns.barplot(data=Top_busiest_airport_passengers, x='Origin_Airport_Code',y='passengers', palette='viridis')\n",
    "plt.title('Heigest Numbers Of Passengers in Origin City Airport/Busiest Airport',fontsize=12)\n",
    "plt.xlabel('Origin Airport',fontsize=12)\n",
    "plt.ylabel('Passengers',fontsize=12)\n",
    "plt.xticks(rotation=45,fontsize=8)\n",
    "plt.tight_layout()\n",
    "plt.show()"
   ]
  },
  {
   "cell_type": "code",
   "execution_count": null,
   "id": "164a0c01",
   "metadata": {
    "execution": {
     "iopub.execute_input": "2024-11-16T20:44:01.917811Z",
     "iopub.status.busy": "2024-11-16T20:44:01.917406Z",
     "iopub.status.idle": "2024-11-16T20:44:01.938340Z",
     "shell.execute_reply": "2024-11-16T20:44:01.937372Z",
     "shell.execute_reply.started": "2024-11-16T20:44:01.917772Z"
    },
    "papermill": {
     "duration": null,
     "end_time": null,
     "exception": null,
     "start_time": null,
     "status": "pending"
    },
    "tags": []
   },
   "outputs": [],
   "source": [
    "heighest_fare_according_years = df.groupby('Year')['fare'].sum().nlargest(20).reset_index()\n",
    "heighest_fare_according_years"
   ]
  },
  {
   "cell_type": "code",
   "execution_count": null,
   "id": "a5e35e51",
   "metadata": {
    "execution": {
     "iopub.execute_input": "2024-11-16T20:46:00.153917Z",
     "iopub.status.busy": "2024-11-16T20:46:00.153442Z",
     "iopub.status.idle": "2024-11-16T20:46:00.599805Z",
     "shell.execute_reply": "2024-11-16T20:46:00.598603Z",
     "shell.execute_reply.started": "2024-11-16T20:46:00.153866Z"
    },
    "papermill": {
     "duration": null,
     "end_time": null,
     "exception": null,
     "start_time": null,
     "status": "pending"
    },
    "tags": []
   },
   "outputs": [],
   "source": [
    "sns.barplot(data=heighest_fare_according_years, x='Year',y='fare', palette='viridis')\n",
    "plt.title('Heighest Fare Rate According Pass Yeras',fontsize=12)\n",
    "plt.xlabel('Yeras Cities',fontsize=12)\n",
    "plt.ylabel('Fare',fontsize=12)\n",
    "plt.xticks(rotation=45,fontsize=8)\n",
    "plt.tight_layout()\n",
    "plt.show()"
   ]
  },
  {
   "cell_type": "code",
   "execution_count": null,
   "id": "4bff9e4e",
   "metadata": {
    "execution": {
     "iopub.execute_input": "2024-11-16T20:46:23.974708Z",
     "iopub.status.busy": "2024-11-16T20:46:23.974269Z",
     "iopub.status.idle": "2024-11-16T20:46:24.335803Z",
     "shell.execute_reply": "2024-11-16T20:46:24.334552Z",
     "shell.execute_reply.started": "2024-11-16T20:46:23.974669Z"
    },
    "papermill": {
     "duration": null,
     "end_time": null,
     "exception": null,
     "start_time": null,
     "status": "pending"
    },
    "tags": []
   },
   "outputs": [],
   "source": [
    "sns.lineplot(data=heighest_fare_according_years, x='Year',y='fare', palette='viridis')\n",
    "plt.title('Heighest Fare Rate According Pass Yeras',fontsize=12)\n",
    "plt.xlabel('Yeras Cities',fontsize=12)\n",
    "plt.ylabel('Fare',fontsize=12)\n",
    "plt.xticks(rotation=45,fontsize=8)\n",
    "plt.tight_layout()\n",
    "plt.show()"
   ]
  },
  {
   "cell_type": "code",
   "execution_count": null,
   "id": "90fd7b98",
   "metadata": {
    "execution": {
     "iopub.execute_input": "2024-11-16T20:52:07.881822Z",
     "iopub.status.busy": "2024-11-16T20:52:07.881391Z",
     "iopub.status.idle": "2024-11-16T20:52:07.893863Z",
     "shell.execute_reply": "2024-11-16T20:52:07.892575Z",
     "shell.execute_reply.started": "2024-11-16T20:52:07.881785Z"
    },
    "papermill": {
     "duration": null,
     "end_time": null,
     "exception": null,
     "start_time": null,
     "status": "pending"
    },
    "tags": []
   },
   "outputs": [],
   "source": [
    "#CORRELATION BETWEEN FARE AND MILES BETWEEN ORIGIN AND DESTINATION CITIES\n",
    "correlation = df['fare'].corr(df['Distance_Btwn_Airport_Miles'])\n",
    "print(f'correlation between fare and miles: {correlation:.2f}')"
   ]
  },
  {
   "cell_type": "code",
   "execution_count": null,
   "id": "8da6fed1",
   "metadata": {
    "execution": {
     "iopub.execute_input": "2024-11-17T18:41:48.352133Z",
     "iopub.status.busy": "2024-11-17T18:41:48.351640Z",
     "iopub.status.idle": "2024-11-17T18:41:48.362845Z",
     "shell.execute_reply": "2024-11-17T18:41:48.361103Z",
     "shell.execute_reply.started": "2024-11-17T18:41:48.352092Z"
    },
    "papermill": {
     "duration": null,
     "end_time": null,
     "exception": null,
     "start_time": null,
     "status": "pending"
    },
    "tags": []
   },
   "outputs": [],
   "source": [
    "df.columns"
   ]
  },
  {
   "cell_type": "code",
   "execution_count": null,
   "id": "5f225ce1",
   "metadata": {
    "execution": {
     "iopub.execute_input": "2024-11-17T18:52:23.192743Z",
     "iopub.status.busy": "2024-11-17T18:52:23.192349Z",
     "iopub.status.idle": "2024-11-17T18:52:23.450659Z",
     "shell.execute_reply": "2024-11-17T18:52:23.449459Z",
     "shell.execute_reply.started": "2024-11-17T18:52:23.192707Z"
    },
    "papermill": {
     "duration": null,
     "end_time": null,
     "exception": null,
     "start_time": null,
     "status": "pending"
    },
    "tags": []
   },
   "outputs": [],
   "source": [
    "import plotly.express as px\n",
    "highest_fare = df.sort_values(by=['Year','fare'],ascending=False)\n",
    "highest_fare = highest_fare.head(9)\n",
    "print(highest_fare['DestinationCity'])"
   ]
  },
  {
   "cell_type": "code",
   "execution_count": null,
   "id": "d4ad01e5",
   "metadata": {
    "execution": {
     "iopub.execute_input": "2024-11-20T18:13:10.724621Z",
     "iopub.status.busy": "2024-11-20T18:13:10.723380Z",
     "iopub.status.idle": "2024-11-20T18:13:10.729838Z",
     "shell.execute_reply": "2024-11-20T18:13:10.728488Z",
     "shell.execute_reply.started": "2024-11-20T18:13:10.724574Z"
    },
    "papermill": {
     "duration": null,
     "end_time": null,
     "exception": null,
     "start_time": null,
     "status": "pending"
    },
    "tags": []
   },
   "outputs": [],
   "source": [
    "Group = df.groupby('DestinationCity')"
   ]
  },
  {
   "cell_type": "code",
   "execution_count": null,
   "id": "04f5160c",
   "metadata": {
    "execution": {
     "iopub.execute_input": "2024-11-20T17:51:44.362423Z",
     "iopub.status.busy": "2024-11-20T17:51:44.361966Z",
     "iopub.status.idle": "2024-11-20T17:51:44.448058Z",
     "shell.execute_reply": "2024-11-20T17:51:44.446703Z",
     "shell.execute_reply.started": "2024-11-20T17:51:44.362364Z"
    },
    "papermill": {
     "duration": null,
     "end_time": null,
     "exception": null,
     "start_time": null,
     "status": "pending"
    },
    "tags": []
   },
   "outputs": [],
   "source": [
    "Average_fare = df.groupby(['OriginCity' , 'DestinationCity'])['fare'].mean().nlargest(20).reset_index()\n",
    "Average_fare"
   ]
  },
  {
   "cell_type": "code",
   "execution_count": null,
   "id": "202b4410",
   "metadata": {
    "execution": {
     "iopub.execute_input": "2024-11-20T17:56:36.786333Z",
     "iopub.status.busy": "2024-11-20T17:56:36.785235Z",
     "iopub.status.idle": "2024-11-20T17:56:36.794706Z",
     "shell.execute_reply": "2024-11-20T17:56:36.793166Z",
     "shell.execute_reply.started": "2024-11-20T17:56:36.786275Z"
    },
    "papermill": {
     "duration": null,
     "end_time": null,
     "exception": null,
     "start_time": null,
     "status": "pending"
    },
    "tags": []
   },
   "outputs": [],
   "source": [
    "df.columns"
   ]
  },
  {
   "cell_type": "code",
   "execution_count": null,
   "id": "85ccdb89",
   "metadata": {
    "execution": {
     "iopub.execute_input": "2024-11-20T18:06:48.481489Z",
     "iopub.status.busy": "2024-11-20T18:06:48.480918Z",
     "iopub.status.idle": "2024-11-20T18:06:48.491348Z",
     "shell.execute_reply": "2024-11-20T18:06:48.490061Z",
     "shell.execute_reply.started": "2024-11-20T18:06:48.481435Z"
    },
    "papermill": {
     "duration": null,
     "end_time": null,
     "exception": null,
     "start_time": null,
     "status": "pending"
    },
    "tags": []
   },
   "outputs": [],
   "source": [
    "df['fare'].max()"
   ]
  },
  {
   "cell_type": "code",
   "execution_count": null,
   "id": "9cc49965",
   "metadata": {
    "execution": {
     "iopub.execute_input": "2024-11-20T18:28:57.879246Z",
     "iopub.status.busy": "2024-11-20T18:28:57.878812Z",
     "iopub.status.idle": "2024-11-20T18:28:57.886721Z",
     "shell.execute_reply": "2024-11-20T18:28:57.885760Z",
     "shell.execute_reply.started": "2024-11-20T18:28:57.879205Z"
    },
    "papermill": {
     "duration": null,
     "end_time": null,
     "exception": null,
     "start_time": null,
     "status": "pending"
    },
    "tags": []
   },
   "outputs": [],
   "source": [
    "data_2024 = df[(df['Year']==2024)]"
   ]
  },
  {
   "cell_type": "code",
   "execution_count": null,
   "id": "a24d171a",
   "metadata": {
    "execution": {
     "iopub.execute_input": "2024-11-20T18:34:55.492604Z",
     "iopub.status.busy": "2024-11-20T18:34:55.492089Z",
     "iopub.status.idle": "2024-11-20T18:34:55.508471Z",
     "shell.execute_reply": "2024-11-20T18:34:55.506850Z",
     "shell.execute_reply.started": "2024-11-20T18:34:55.492561Z"
    },
    "papermill": {
     "duration": null,
     "end_time": null,
     "exception": null,
     "start_time": null,
     "status": "pending"
    },
    "tags": []
   },
   "outputs": [],
   "source": [
    "s = Group1.get_group('New York City')[['OriginCity','fare']]\n",
    "s"
   ]
  },
  {
   "cell_type": "code",
   "execution_count": null,
   "id": "35118f45",
   "metadata": {
    "papermill": {
     "duration": null,
     "end_time": null,
     "exception": null,
     "start_time": null,
     "status": "pending"
    },
    "tags": []
   },
   "outputs": [],
   "source": []
  },
  {
   "cell_type": "code",
   "execution_count": null,
   "id": "d082429e",
   "metadata": {
    "execution": {
     "iopub.execute_input": "2024-11-20T18:29:58.759885Z",
     "iopub.status.busy": "2024-11-20T18:29:58.759455Z",
     "iopub.status.idle": "2024-11-20T18:29:58.790490Z",
     "shell.execute_reply": "2024-11-20T18:29:58.789122Z",
     "shell.execute_reply.started": "2024-11-20T18:29:58.759849Z"
    },
    "papermill": {
     "duration": null,
     "end_time": null,
     "exception": null,
     "start_time": null,
     "status": "pending"
    },
    "tags": []
   },
   "outputs": [],
   "source": [
    "Average_fare_2024 = data_2024.groupby(['OriginCity' , 'DestinationCity'])['fare'].mean().nlargest(20).reset_index()\n",
    "Average_fare"
   ]
  },
  {
   "cell_type": "code",
   "execution_count": null,
   "id": "39491ec5",
   "metadata": {
    "execution": {
     "iopub.execute_input": "2024-11-20T17:59:11.871982Z",
     "iopub.status.busy": "2024-11-20T17:59:11.871426Z",
     "iopub.status.idle": "2024-11-20T17:59:12.185020Z",
     "shell.execute_reply": "2024-11-20T17:59:12.183135Z",
     "shell.execute_reply.started": "2024-11-20T17:59:11.871928Z"
    },
    "papermill": {
     "duration": null,
     "end_time": null,
     "exception": null,
     "start_time": null,
     "status": "pending"
    },
    "tags": []
   },
   "outputs": [],
   "source": [
    "fig, ax = plt.subplots()\n",
    "ax.pie(Average_fare,radius=1,labels=Average_fare.index,autopct='%1.f%%',wedgeprops=dict(width=0.5,edgecolor='w'))\n",
    "ax.pie(df['Years'],labels=df['Year'].index,radius=1-0.5,autopct='%1.f%%',wedgeprops=dict(width=0.5,edgecolor='w'))\n",
    "ax.set_title('Fare Prediction')\n",
    "plt.tight_layout()\n",
    "plt.show()"
   ]
  },
  {
   "cell_type": "code",
   "execution_count": null,
   "id": "907fa4ec",
   "metadata": {
    "papermill": {
     "duration": null,
     "end_time": null,
     "exception": null,
     "start_time": null,
     "status": "pending"
    },
    "tags": []
   },
   "outputs": [],
   "source": []
  },
  {
   "cell_type": "code",
   "execution_count": null,
   "id": "6e98ca32",
   "metadata": {
    "execution": {
     "iopub.execute_input": "2024-11-20T17:47:47.810155Z",
     "iopub.status.busy": "2024-11-20T17:47:47.808976Z",
     "iopub.status.idle": "2024-11-20T17:47:49.586698Z",
     "shell.execute_reply": "2024-11-20T17:47:49.585271Z",
     "shell.execute_reply.started": "2024-11-20T17:47:47.810107Z"
    },
    "papermill": {
     "duration": null,
     "end_time": null,
     "exception": null,
     "start_time": null,
     "status": "pending"
    },
    "tags": []
   },
   "outputs": [],
   "source": [
    "fig = px.sunburst(Average_fare,path=['DestinationCity','OriginCity'],values='fare')\n",
    "fig.update_traces(textinfo='label + percent parent')\n",
    "fig.show()"
   ]
  },
  {
   "cell_type": "code",
   "execution_count": null,
   "id": "ad0f0348",
   "metadata": {
    "papermill": {
     "duration": null,
     "end_time": null,
     "exception": null,
     "start_time": null,
     "status": "pending"
    },
    "tags": []
   },
   "outputs": [],
   "source": []
  },
  {
   "cell_type": "code",
   "execution_count": null,
   "id": "9968579a",
   "metadata": {
    "execution": {
     "iopub.execute_input": "2024-11-16T21:28:22.209300Z",
     "iopub.status.busy": "2024-11-16T21:28:22.208737Z",
     "iopub.status.idle": "2024-11-16T21:28:31.658575Z",
     "shell.execute_reply": "2024-11-16T21:28:31.657329Z",
     "shell.execute_reply.started": "2024-11-16T21:28:22.209215Z"
    },
    "papermill": {
     "duration": null,
     "end_time": null,
     "exception": null,
     "start_time": null,
     "status": "pending"
    },
    "tags": []
   },
   "outputs": [],
   "source": [
    "#MarketShare During The Years\n",
    "Market_share = df.groupby('Year').sum()['large_ms'].sort_values(ascending=False)\n",
    "Market_share"
   ]
  },
  {
   "cell_type": "code",
   "execution_count": null,
   "id": "9a5ea090",
   "metadata": {
    "execution": {
     "iopub.execute_input": "2024-11-16T21:28:13.431301Z",
     "iopub.status.busy": "2024-11-16T21:28:13.430866Z",
     "iopub.status.idle": "2024-11-16T21:28:13.452014Z",
     "shell.execute_reply": "2024-11-16T21:28:13.450776Z",
     "shell.execute_reply.started": "2024-11-16T21:28:13.431243Z"
    },
    "papermill": {
     "duration": null,
     "end_time": null,
     "exception": null,
     "start_time": null,
     "status": "pending"
    },
    "tags": []
   },
   "outputs": [],
   "source": [
    "#MarketShare During The Years\n",
    "Market_share = df.groupby('Year')['large_ms'].sum().nlargest(40).reset_index()\n",
    "Market_share"
   ]
  },
  {
   "cell_type": "code",
   "execution_count": null,
   "id": "17d562ba",
   "metadata": {
    "execution": {
     "iopub.execute_input": "2024-11-16T21:28:38.813047Z",
     "iopub.status.busy": "2024-11-16T21:28:38.812073Z",
     "iopub.status.idle": "2024-11-16T21:28:39.196786Z",
     "shell.execute_reply": "2024-11-16T21:28:39.195638Z",
     "shell.execute_reply.started": "2024-11-16T21:28:38.812998Z"
    },
    "papermill": {
     "duration": null,
     "end_time": null,
     "exception": null,
     "start_time": null,
     "status": "pending"
    },
    "tags": []
   },
   "outputs": [],
   "source": [
    "Market_share.plot(kind='bar')"
   ]
  },
  {
   "cell_type": "code",
   "execution_count": null,
   "id": "de49ae2a",
   "metadata": {
    "execution": {
     "iopub.execute_input": "2024-11-16T21:08:04.523093Z",
     "iopub.status.busy": "2024-11-16T21:08:04.522694Z",
     "iopub.status.idle": "2024-11-16T21:08:04.860647Z",
     "shell.execute_reply": "2024-11-16T21:08:04.859460Z",
     "shell.execute_reply.started": "2024-11-16T21:08:04.523055Z"
    },
    "papermill": {
     "duration": null,
     "end_time": null,
     "exception": null,
     "start_time": null,
     "status": "pending"
    },
    "tags": []
   },
   "outputs": [],
   "source": [
    "Market_share.plot(kind='pie',subplots=True)"
   ]
  },
  {
   "cell_type": "code",
   "execution_count": null,
   "id": "2796e954",
   "metadata": {
    "execution": {
     "iopub.execute_input": "2024-11-16T21:37:37.199021Z",
     "iopub.status.busy": "2024-11-16T21:37:37.198569Z",
     "iopub.status.idle": "2024-11-16T21:37:37.249231Z",
     "shell.execute_reply": "2024-11-16T21:37:37.247726Z",
     "shell.execute_reply.started": "2024-11-16T21:37:37.198961Z"
    },
    "papermill": {
     "duration": null,
     "end_time": null,
     "exception": null,
     "start_time": null,
     "status": "pending"
    },
    "tags": []
   },
   "outputs": [],
   "source": [
    "#Which Airports has heighest Numbers Of Routes\n",
    "Top_Airport_Origin = df['Origin_Airport_Code'].value_counts().head(20)"
   ]
  },
  {
   "cell_type": "code",
   "execution_count": null,
   "id": "e9a0016a",
   "metadata": {
    "execution": {
     "iopub.execute_input": "2024-11-17T11:33:02.326726Z",
     "iopub.status.busy": "2024-11-17T11:33:02.326272Z",
     "iopub.status.idle": "2024-11-17T11:33:02.378605Z",
     "shell.execute_reply": "2024-11-17T11:33:02.376841Z",
     "shell.execute_reply.started": "2024-11-17T11:33:02.326685Z"
    },
    "papermill": {
     "duration": null,
     "end_time": null,
     "exception": null,
     "start_time": null,
     "status": "pending"
    },
    "tags": []
   },
   "outputs": [],
   "source": [
    "Most_Origin_Airport_Routes = df['Origin_Airport_Code'].value_counts().head(30)"
   ]
  },
  {
   "cell_type": "code",
   "execution_count": null,
   "id": "98fbb4db",
   "metadata": {
    "execution": {
     "iopub.execute_input": "2024-11-17T11:33:03.506031Z",
     "iopub.status.busy": "2024-11-17T11:33:03.505514Z",
     "iopub.status.idle": "2024-11-17T11:33:04.067122Z",
     "shell.execute_reply": "2024-11-17T11:33:04.065902Z",
     "shell.execute_reply.started": "2024-11-17T11:33:03.505987Z"
    },
    "papermill": {
     "duration": null,
     "end_time": null,
     "exception": null,
     "start_time": null,
     "status": "pending"
    },
    "tags": []
   },
   "outputs": [],
   "source": [
    "import seaborn as sns\n",
    "import matplotlib.pyplot as plt\n",
    "sns.barplot(x=Most_Origin_Airport_Routes.values,y=Most_Origin_Airport_Routes.index)\n",
    "plt.show()"
   ]
  },
  {
   "cell_type": "code",
   "execution_count": null,
   "id": "17eca11f",
   "metadata": {
    "execution": {
     "iopub.execute_input": "2024-11-17T12:32:58.665579Z",
     "iopub.status.busy": "2024-11-17T12:32:58.664640Z",
     "iopub.status.idle": "2024-11-17T12:32:58.744444Z",
     "shell.execute_reply": "2024-11-17T12:32:58.743047Z",
     "shell.execute_reply.started": "2024-11-17T12:32:58.665516Z"
    },
    "papermill": {
     "duration": null,
     "end_time": null,
     "exception": null,
     "start_time": null,
     "status": "pending"
    },
    "tags": []
   },
   "outputs": [],
   "source": [
    "Cities_With_Highest_Fares = df.groupby(['OriginCity','DestinationCity'])['fare'].sum().sort_values(ascending=False)\n",
    "Cities_With_Highest_Fares"
   ]
  },
  {
   "cell_type": "code",
   "execution_count": null,
   "id": "5d7a55bb",
   "metadata": {
    "execution": {
     "iopub.execute_input": "2024-11-17T11:54:49.082033Z",
     "iopub.status.busy": "2024-11-17T11:54:49.081429Z",
     "iopub.status.idle": "2024-11-17T11:55:50.224834Z",
     "shell.execute_reply": "2024-11-17T11:55:50.223676Z",
     "shell.execute_reply.started": "2024-11-17T11:54:49.081977Z"
    },
    "papermill": {
     "duration": null,
     "end_time": null,
     "exception": null,
     "start_time": null,
     "status": "pending"
    },
    "tags": []
   },
   "outputs": [],
   "source": [
    "df.plot('Year',['large_ms','LowestCarrier_MarketShare'],secondary_y='fare')"
   ]
  },
  {
   "cell_type": "code",
   "execution_count": null,
   "id": "77765d74",
   "metadata": {
    "execution": {
     "iopub.execute_input": "2024-11-17T12:11:19.328707Z",
     "iopub.status.busy": "2024-11-17T12:11:19.328247Z",
     "iopub.status.idle": "2024-11-17T12:11:47.965783Z",
     "shell.execute_reply": "2024-11-17T12:11:47.964345Z",
     "shell.execute_reply.started": "2024-11-17T12:11:19.328664Z"
    },
    "papermill": {
     "duration": null,
     "end_time": null,
     "exception": null,
     "start_time": null,
     "status": "pending"
    },
    "tags": []
   },
   "outputs": [],
   "source": [
    "fig, ax = plt.subplots()\n",
    "ax2 = ax.twinx()\n",
    "\n",
    "df.plot(x='large_ms',y=['Year'],ax=ax)\n",
    "df.plot(x='LowestCarrier_MarketShare',y=['Year'],ax=ax2)\n",
    "fig.legend(loc='upper right',bbox_to_anchor=(1,1),bbox_transform=ax.transAxes)\n",
    "plt.show()"
   ]
  },
  {
   "cell_type": "code",
   "execution_count": null,
   "id": "27696bec",
   "metadata": {
    "execution": {
     "iopub.execute_input": "2024-11-17T12:09:13.566486Z",
     "iopub.status.busy": "2024-11-17T12:09:13.565989Z",
     "iopub.status.idle": "2024-11-17T12:09:20.132614Z",
     "shell.execute_reply": "2024-11-17T12:09:20.131507Z",
     "shell.execute_reply.started": "2024-11-17T12:09:13.566444Z"
    },
    "papermill": {
     "duration": null,
     "end_time": null,
     "exception": null,
     "start_time": null,
     "status": "pending"
    },
    "tags": []
   },
   "outputs": [],
   "source": [
    "df_melted = df.melt(id_vars='Year',value_vars=['large_ms','LowestCarrier_MarketShare'],var_name='Market Share Type',value_name='Market Share')\n",
    "plt.figure(figsize=(12, 6))\n",
    "sns.lineplot(data=df_melted,x='Year',y='Market Share',hue='Market Share Type',marker='o')\n",
    "plt.title('Market Share Lowest/Higher')\n",
    "plt.tight_layout()\n",
    "plt.show()"
   ]
  },
  {
   "cell_type": "code",
   "execution_count": null,
   "id": "14639558",
   "metadata": {
    "execution": {
     "iopub.execute_input": "2024-11-17T12:30:57.934495Z",
     "iopub.status.busy": "2024-11-17T12:30:57.934043Z",
     "iopub.status.idle": "2024-11-17T12:31:04.520545Z",
     "shell.execute_reply": "2024-11-17T12:31:04.519490Z",
     "shell.execute_reply.started": "2024-11-17T12:30:57.934454Z"
    },
    "papermill": {
     "duration": null,
     "end_time": null,
     "exception": null,
     "start_time": null,
     "status": "pending"
    },
    "tags": []
   },
   "outputs": [],
   "source": [
    "df1_melted = df.melt(id_vars='Year',value_vars=['largest_carrier_average_fare','fare_low'],var_name='Fare Type',value_name='Flight Fare')\n",
    "plt.figure(figsize=(12, 6))\n",
    "sns.lineplot(data=df1_melted,x='Year',y='Flight Fare',hue='Fare Type',marker='o')\n",
    "plt.title('Flight Lowest/Higher Fare Over Time Period')\n",
    "plt.tight_layout()\n",
    "plt.show()"
   ]
  },
  {
   "cell_type": "code",
   "execution_count": null,
   "id": "1c9cb4a4",
   "metadata": {
    "execution": {
     "iopub.execute_input": "2024-11-17T12:53:29.302273Z",
     "iopub.status.busy": "2024-11-17T12:53:29.301722Z",
     "iopub.status.idle": "2024-11-17T12:53:29.311811Z",
     "shell.execute_reply": "2024-11-17T12:53:29.310262Z",
     "shell.execute_reply.started": "2024-11-17T12:53:29.302226Z"
    },
    "papermill": {
     "duration": null,
     "end_time": null,
     "exception": null,
     "start_time": null,
     "status": "pending"
    },
    "tags": []
   },
   "outputs": [],
   "source": [
    "df.columns"
   ]
  },
  {
   "cell_type": "code",
   "execution_count": null,
   "id": "a95cd8e2",
   "metadata": {
    "papermill": {
     "duration": null,
     "end_time": null,
     "exception": null,
     "start_time": null,
     "status": "pending"
    },
    "tags": []
   },
   "outputs": [],
   "source": []
  },
  {
   "cell_type": "code",
   "execution_count": null,
   "id": "408053b6",
   "metadata": {
    "execution": {
     "iopub.execute_input": "2024-11-22T20:07:55.236701Z",
     "iopub.status.busy": "2024-11-22T20:07:55.235576Z",
     "iopub.status.idle": "2024-11-22T20:07:55.272587Z",
     "shell.execute_reply": "2024-11-22T20:07:55.271356Z",
     "shell.execute_reply.started": "2024-11-22T20:07:55.236642Z"
    },
    "papermill": {
     "duration": null,
     "end_time": null,
     "exception": null,
     "start_time": null,
     "status": "pending"
    },
    "tags": []
   },
   "outputs": [],
   "source": [
    "df['DestinationCity'].value_counts().tail(75)"
   ]
  },
  {
   "cell_type": "code",
   "execution_count": null,
   "id": "fda3b6d4",
   "metadata": {
    "execution": {
     "iopub.execute_input": "2024-11-17T13:00:01.443580Z",
     "iopub.status.busy": "2024-11-17T13:00:01.443037Z",
     "iopub.status.idle": "2024-11-17T13:00:01.453174Z",
     "shell.execute_reply": "2024-11-17T13:00:01.451492Z",
     "shell.execute_reply.started": "2024-11-17T13:00:01.443534Z"
    },
    "papermill": {
     "duration": null,
     "end_time": null,
     "exception": null,
     "start_time": null,
     "status": "pending"
    },
    "tags": []
   },
   "outputs": [],
   "source": [
    "df_new = df[['Year','quarter','Origin_City_ID','passengers','fare','large_ms','OriginCity','OriginState','Origin_Airport_Code']]"
   ]
  },
  {
   "cell_type": "code",
   "execution_count": null,
   "id": "03507471",
   "metadata": {
    "execution": {
     "iopub.execute_input": "2024-11-17T14:41:54.098606Z",
     "iopub.status.busy": "2024-11-17T14:41:54.098132Z",
     "iopub.status.idle": "2024-11-17T14:41:54.131146Z",
     "shell.execute_reply": "2024-11-17T14:41:54.128993Z",
     "shell.execute_reply.started": "2024-11-17T14:41:54.098564Z"
    },
    "papermill": {
     "duration": null,
     "end_time": null,
     "exception": null,
     "start_time": null,
     "status": "pending"
    },
    "tags": []
   },
   "outputs": [],
   "source": [
    "import plotly.express as go\n",
    "df_new['Year'] = pd.to_datetime(df_new['Year'])\n",
    "df_new['Year'] = df_new['Year'].dt.year\n",
    "df_new = df.sort_values(by=['Year'])\n",
    "df_new"
   ]
  },
  {
   "cell_type": "code",
   "execution_count": null,
   "id": "e66131b0",
   "metadata": {
    "execution": {
     "iopub.execute_input": "2024-11-17T14:41:04.071550Z",
     "iopub.status.busy": "2024-11-17T14:41:04.071114Z",
     "iopub.status.idle": "2024-11-17T14:41:04.089512Z",
     "shell.execute_reply": "2024-11-17T14:41:04.088007Z",
     "shell.execute_reply.started": "2024-11-17T14:41:04.071507Z"
    },
    "papermill": {
     "duration": null,
     "end_time": null,
     "exception": null,
     "start_time": null,
     "status": "pending"
    },
    "tags": []
   },
   "outputs": [],
   "source": [
    "df= df[df['Year']>1994]\n",
    "DepartureCity = df[['OriginCity','Origin_Airport_Code']]\n",
    "DepartureCity"
   ]
  },
  {
   "cell_type": "code",
   "execution_count": null,
   "id": "779eaf3a",
   "metadata": {
    "execution": {
     "iopub.execute_input": "2024-11-17T13:01:37.883037Z",
     "iopub.status.busy": "2024-11-17T13:01:37.881853Z",
     "iopub.status.idle": "2024-11-17T13:01:37.901233Z",
     "shell.execute_reply": "2024-11-17T13:01:37.899898Z",
     "shell.execute_reply.started": "2024-11-17T13:01:37.882985Z"
    },
    "papermill": {
     "duration": null,
     "end_time": null,
     "exception": null,
     "start_time": null,
     "status": "pending"
    },
    "tags": []
   },
   "outputs": [],
   "source": [
    "df_final = pd.merge(df_new,DepartureCity,left_on='Origin_City_ID',right_on='Origin_Airport_Code',how='left')\n",
    "df_final = df_final.iloc[:,:-1]\n",
    "df_final"
   ]
  },
  {
   "cell_type": "code",
   "execution_count": null,
   "id": "3fee0cef",
   "metadata": {
    "execution": {
     "iopub.execute_input": "2024-11-17T16:20:17.264238Z",
     "iopub.status.busy": "2024-11-17T16:20:17.263837Z",
     "iopub.status.idle": "2024-11-17T16:20:17.531468Z",
     "shell.execute_reply": "2024-11-17T16:20:17.530311Z",
     "shell.execute_reply.started": "2024-11-17T16:20:17.264202Z"
    },
    "papermill": {
     "duration": null,
     "end_time": null,
     "exception": null,
     "start_time": null,
     "status": "pending"
    },
    "tags": []
   },
   "outputs": [],
   "source": [
    "from sklearn.model_selection import train_test_split\n",
    "X_train,X_test,y_train,y_test = train_test_split(df.drop('fare',axis=1),df['fare'],test_size=0.2,random_state=42)"
   ]
  },
  {
   "cell_type": "code",
   "execution_count": null,
   "id": "7a1fda8f",
   "metadata": {
    "execution": {
     "iopub.execute_input": "2024-11-17T14:44:38.825904Z",
     "iopub.status.busy": "2024-11-17T14:44:38.825166Z",
     "iopub.status.idle": "2024-11-17T14:44:38.835767Z",
     "shell.execute_reply": "2024-11-17T14:44:38.834264Z",
     "shell.execute_reply.started": "2024-11-17T14:44:38.825857Z"
    },
    "papermill": {
     "duration": null,
     "end_time": null,
     "exception": null,
     "start_time": null,
     "status": "pending"
    },
    "tags": []
   },
   "outputs": [],
   "source": [
    "df.dtypes"
   ]
  },
  {
   "cell_type": "code",
   "execution_count": null,
   "id": "b6357327",
   "metadata": {
    "execution": {
     "iopub.execute_input": "2024-11-21T19:03:13.728087Z",
     "iopub.status.busy": "2024-11-21T19:03:13.727537Z",
     "iopub.status.idle": "2024-11-21T19:03:13.763346Z",
     "shell.execute_reply": "2024-11-21T19:03:13.762251Z",
     "shell.execute_reply.started": "2024-11-21T19:03:13.728044Z"
    },
    "papermill": {
     "duration": null,
     "end_time": null,
     "exception": null,
     "start_time": null,
     "status": "pending"
    },
    "tags": []
   },
   "outputs": [],
   "source": [
    "USAirline_Fares = df[['Year','quarter','OriginCity','DestinationCity','Origin_Airport_ID','Destination_Airport_ID','Distance_Btwn_Airport_Miles','passengers','fare','large_ms','largest_carrier_average_fare']]\n",
    "USAirline_Fares"
   ]
  },
  {
   "cell_type": "code",
   "execution_count": null,
   "id": "784e7f13",
   "metadata": {
    "execution": {
     "iopub.execute_input": "2024-11-21T19:03:18.227227Z",
     "iopub.status.busy": "2024-11-21T19:03:18.226724Z",
     "iopub.status.idle": "2024-11-21T19:03:18.268149Z",
     "shell.execute_reply": "2024-11-21T19:03:18.266916Z",
     "shell.execute_reply.started": "2024-11-21T19:03:18.227182Z"
    },
    "papermill": {
     "duration": null,
     "end_time": null,
     "exception": null,
     "start_time": null,
     "status": "pending"
    },
    "tags": []
   },
   "outputs": [],
   "source": [
    "USAirline_Fares.isnull().mean()*100"
   ]
  },
  {
   "cell_type": "code",
   "execution_count": null,
   "id": "64c03002",
   "metadata": {
    "execution": {
     "iopub.execute_input": "2024-11-21T19:03:40.514180Z",
     "iopub.status.busy": "2024-11-21T19:03:40.513523Z",
     "iopub.status.idle": "2024-11-21T19:03:40.525514Z",
     "shell.execute_reply": "2024-11-21T19:03:40.524161Z",
     "shell.execute_reply.started": "2024-11-21T19:03:40.514118Z"
    },
    "papermill": {
     "duration": null,
     "end_time": null,
     "exception": null,
     "start_time": null,
     "status": "pending"
    },
    "tags": []
   },
   "outputs": [],
   "source": [
    "USAirline_Fares.dtypes"
   ]
  },
  {
   "cell_type": "code",
   "execution_count": null,
   "id": "d6ef1d47",
   "metadata": {
    "execution": {
     "iopub.execute_input": "2024-11-22T14:42:45.886896Z",
     "iopub.status.busy": "2024-11-22T14:42:45.886512Z",
     "iopub.status.idle": "2024-11-22T14:42:45.893655Z",
     "shell.execute_reply": "2024-11-22T14:42:45.892377Z",
     "shell.execute_reply.started": "2024-11-22T14:42:45.886861Z"
    },
    "papermill": {
     "duration": null,
     "end_time": null,
     "exception": null,
     "start_time": null,
     "status": "pending"
    },
    "tags": []
   },
   "outputs": [],
   "source": [
    "pd.__version__"
   ]
  },
  {
   "cell_type": "code",
   "execution_count": null,
   "id": "62ac580f",
   "metadata": {
    "execution": {
     "iopub.execute_input": "2024-11-22T16:20:25.237994Z",
     "iopub.status.busy": "2024-11-22T16:20:25.237279Z",
     "iopub.status.idle": "2024-11-22T16:20:25.245397Z",
     "shell.execute_reply": "2024-11-22T16:20:25.244282Z",
     "shell.execute_reply.started": "2024-11-22T16:20:25.237959Z"
    },
    "papermill": {
     "duration": null,
     "end_time": null,
     "exception": null,
     "start_time": null,
     "status": "pending"
    },
    "tags": []
   },
   "outputs": [],
   "source": [
    "import numpy\n",
    "numpy.version.version"
   ]
  },
  {
   "cell_type": "code",
   "execution_count": null,
   "id": "d41a0ff8",
   "metadata": {
    "execution": {
     "iopub.execute_input": "2024-11-22T15:45:14.805582Z",
     "iopub.status.busy": "2024-11-22T15:45:14.805121Z",
     "iopub.status.idle": "2024-11-22T15:45:15.282886Z",
     "shell.execute_reply": "2024-11-22T15:45:15.281760Z",
     "shell.execute_reply.started": "2024-11-22T15:45:14.805543Z"
    },
    "papermill": {
     "duration": null,
     "end_time": null,
     "exception": null,
     "start_time": null,
     "status": "pending"
    },
    "tags": []
   },
   "outputs": [],
   "source": [
    "import sklearn\n",
    "print('The Scikit-learn version is {},'.format(sklearn.__version__))"
   ]
  },
  {
   "cell_type": "code",
   "execution_count": null,
   "id": "6270550c",
   "metadata": {
    "execution": {
     "iopub.execute_input": "2024-11-22T14:59:31.363733Z",
     "iopub.status.busy": "2024-11-22T14:59:31.363326Z",
     "iopub.status.idle": "2024-11-22T14:59:32.547372Z",
     "shell.execute_reply": "2024-11-22T14:59:32.545897Z",
     "shell.execute_reply.started": "2024-11-22T14:59:31.363696Z"
    },
    "papermill": {
     "duration": null,
     "end_time": null,
     "exception": null,
     "start_time": null,
     "status": "pending"
    },
    "tags": []
   },
   "outputs": [],
   "source": [
    "!python --version"
   ]
  },
  {
   "cell_type": "code",
   "execution_count": null,
   "id": "0a25e3f7",
   "metadata": {
    "execution": {
     "iopub.execute_input": "2024-11-21T19:14:57.220732Z",
     "iopub.status.busy": "2024-11-21T19:14:57.219236Z",
     "iopub.status.idle": "2024-11-21T19:14:57.255249Z",
     "shell.execute_reply": "2024-11-21T19:14:57.253778Z",
     "shell.execute_reply.started": "2024-11-21T19:14:57.220661Z"
    },
    "papermill": {
     "duration": null,
     "end_time": null,
     "exception": null,
     "start_time": null,
     "status": "pending"
    },
    "tags": []
   },
   "outputs": [],
   "source": [
    "USAirline_Fares['OriginCity'].value_counts(20)"
   ]
  },
  {
   "cell_type": "code",
   "execution_count": null,
   "id": "c6c23c69",
   "metadata": {
    "execution": {
     "iopub.execute_input": "2024-11-17T15:38:25.555408Z",
     "iopub.status.busy": "2024-11-17T15:38:25.554988Z",
     "iopub.status.idle": "2024-11-17T15:38:25.566655Z",
     "shell.execute_reply": "2024-11-17T15:38:25.565245Z",
     "shell.execute_reply.started": "2024-11-17T15:38:25.555370Z"
    },
    "papermill": {
     "duration": null,
     "end_time": null,
     "exception": null,
     "start_time": null,
     "status": "pending"
    },
    "tags": []
   },
   "outputs": [],
   "source": [
    "USAirline_Fares['largest_carrier_average_fare'].mean()"
   ]
  },
  {
   "cell_type": "code",
   "execution_count": null,
   "id": "43b73593",
   "metadata": {
    "execution": {
     "iopub.execute_input": "2024-11-17T16:25:50.954175Z",
     "iopub.status.busy": "2024-11-17T16:25:50.953718Z",
     "iopub.status.idle": "2024-11-17T16:25:50.968484Z",
     "shell.execute_reply": "2024-11-17T16:25:50.967009Z",
     "shell.execute_reply.started": "2024-11-17T16:25:50.954135Z"
    },
    "papermill": {
     "duration": null,
     "end_time": null,
     "exception": null,
     "start_time": null,
     "status": "pending"
    },
    "tags": []
   },
   "outputs": [],
   "source": [
    "USAirline_Fares['large_ms'] = USAirline_Fares['large_ms'].fillna(0.66525163)"
   ]
  },
  {
   "cell_type": "code",
   "execution_count": null,
   "id": "206c556a",
   "metadata": {
    "execution": {
     "iopub.execute_input": "2024-11-17T16:25:52.818428Z",
     "iopub.status.busy": "2024-11-17T16:25:52.817371Z",
     "iopub.status.idle": "2024-11-17T16:25:52.827608Z",
     "shell.execute_reply": "2024-11-17T16:25:52.826331Z",
     "shell.execute_reply.started": "2024-11-17T16:25:52.818377Z"
    },
    "papermill": {
     "duration": null,
     "end_time": null,
     "exception": null,
     "start_time": null,
     "status": "pending"
    },
    "tags": []
   },
   "outputs": [],
   "source": [
    "USAirline_Fares['largest_carrier_average_fare'] = USAirline_Fares['largest_carrier_average_fare'].fillna(218.71096)"
   ]
  },
  {
   "cell_type": "code",
   "execution_count": null,
   "id": "f05cb2ca",
   "metadata": {
    "execution": {
     "iopub.execute_input": "2024-11-17T16:26:02.514420Z",
     "iopub.status.busy": "2024-11-17T16:26:02.513957Z",
     "iopub.status.idle": "2024-11-17T16:26:02.641454Z",
     "shell.execute_reply": "2024-11-17T16:26:02.640082Z",
     "shell.execute_reply.started": "2024-11-17T16:26:02.514377Z"
    },
    "papermill": {
     "duration": null,
     "end_time": null,
     "exception": null,
     "start_time": null,
     "status": "pending"
    },
    "tags": []
   },
   "outputs": [],
   "source": [
    "from sklearn.model_selection import train_test_split\n",
    "X_train,X_test,y_train,y_test = train_test_split(USAirline_Fares.drop('fare',axis=1),USAirline_Fares['fare'],test_size=0.2,random_state=42)"
   ]
  },
  {
   "cell_type": "code",
   "execution_count": null,
   "id": "590b2588",
   "metadata": {
    "execution": {
     "iopub.execute_input": "2024-11-17T15:40:31.976794Z",
     "iopub.status.busy": "2024-11-17T15:40:31.975537Z",
     "iopub.status.idle": "2024-11-17T15:40:33.183066Z",
     "shell.execute_reply": "2024-11-17T15:40:33.182056Z",
     "shell.execute_reply.started": "2024-11-17T15:40:31.976735Z"
    },
    "papermill": {
     "duration": null,
     "end_time": null,
     "exception": null,
     "start_time": null,
     "status": "pending"
    },
    "tags": []
   },
   "outputs": [],
   "source": [
    "from sklearn.preprocessing import OneHotEncoder\n",
    "oe = OneHotEncoder(drop='first',sparse_output=False)\n",
    "X_train_OHE = oe.fit_transform(X_train[['OriginCity','DestinationCity']])\n",
    "X_test_OHE = oe.transform(X_test[['OriginCity','DestinationCity']])"
   ]
  },
  {
   "cell_type": "code",
   "execution_count": null,
   "id": "d077cee4",
   "metadata": {
    "execution": {
     "iopub.execute_input": "2024-11-17T15:40:57.508449Z",
     "iopub.status.busy": "2024-11-17T15:40:57.507958Z",
     "iopub.status.idle": "2024-11-17T15:40:57.524451Z",
     "shell.execute_reply": "2024-11-17T15:40:57.523150Z",
     "shell.execute_reply.started": "2024-11-17T15:40:57.508397Z"
    },
    "papermill": {
     "duration": null,
     "end_time": null,
     "exception": null,
     "start_time": null,
     "status": "pending"
    },
    "tags": []
   },
   "outputs": [],
   "source": [
    "X_train_RD = X_train.drop(columns=['OriginCity','DestinationCity']).values\n",
    "X_test_Rd = X_test.drop(columns=['OriginCity','DestinationCity']).values"
   ]
  },
  {
   "cell_type": "code",
   "execution_count": null,
   "id": "b87fbe27",
   "metadata": {
    "execution": {
     "iopub.execute_input": "2024-11-17T15:40:58.617896Z",
     "iopub.status.busy": "2024-11-17T15:40:58.617534Z",
     "iopub.status.idle": "2024-11-17T15:40:59.198888Z",
     "shell.execute_reply": "2024-11-17T15:40:59.197795Z",
     "shell.execute_reply.started": "2024-11-17T15:40:58.617860Z"
    },
    "papermill": {
     "duration": null,
     "end_time": null,
     "exception": null,
     "start_time": null,
     "status": "pending"
    },
    "tags": []
   },
   "outputs": [],
   "source": [
    "X_train_new = np.concatenate((X_train_OHE,X_train_RD),axis=1)\n",
    "X_test_new = np.concatenate((X_test_OHE,X_test_Rd),axis=1)"
   ]
  },
  {
   "cell_type": "code",
   "execution_count": null,
   "id": "a57a82f5",
   "metadata": {
    "execution": {
     "iopub.execute_input": "2024-11-17T15:42:54.917255Z",
     "iopub.status.busy": "2024-11-17T15:42:54.916794Z",
     "iopub.status.idle": "2024-11-17T15:42:59.943474Z",
     "shell.execute_reply": "2024-11-17T15:42:59.942446Z",
     "shell.execute_reply.started": "2024-11-17T15:42:54.917202Z"
    },
    "papermill": {
     "duration": null,
     "end_time": null,
     "exception": null,
     "start_time": null,
     "status": "pending"
    },
    "tags": []
   },
   "outputs": [],
   "source": [
    "from sklearn.linear_model import LinearRegression\n",
    "lr = LinearRegression()\n",
    "lr.fit(X_train_new,y_train)"
   ]
  },
  {
   "cell_type": "code",
   "execution_count": null,
   "id": "2c9688f7",
   "metadata": {
    "execution": {
     "iopub.execute_input": "2024-11-17T15:43:21.877558Z",
     "iopub.status.busy": "2024-11-17T15:43:21.876530Z",
     "iopub.status.idle": "2024-11-17T15:43:21.908577Z",
     "shell.execute_reply": "2024-11-17T15:43:21.907265Z",
     "shell.execute_reply.started": "2024-11-17T15:43:21.877509Z"
    },
    "papermill": {
     "duration": null,
     "end_time": null,
     "exception": null,
     "start_time": null,
     "status": "pending"
    },
    "tags": []
   },
   "outputs": [],
   "source": [
    "y_pred = lr.predict(X_test_new)"
   ]
  },
  {
   "cell_type": "code",
   "execution_count": null,
   "id": "ba43a223",
   "metadata": {
    "execution": {
     "iopub.execute_input": "2024-11-17T15:44:09.974119Z",
     "iopub.status.busy": "2024-11-17T15:44:09.972390Z",
     "iopub.status.idle": "2024-11-17T15:44:09.980011Z",
     "shell.execute_reply": "2024-11-17T15:44:09.978562Z",
     "shell.execute_reply.started": "2024-11-17T15:44:09.974055Z"
    },
    "papermill": {
     "duration": null,
     "end_time": null,
     "exception": null,
     "start_time": null,
     "status": "pending"
    },
    "tags": []
   },
   "outputs": [],
   "source": [
    "from sklearn.metrics import r2_score,mean_squared_error,mean_absolute_error\n",
    "import math\n",
    "from math import sqrt"
   ]
  },
  {
   "cell_type": "code",
   "execution_count": null,
   "id": "05f7e4f8",
   "metadata": {
    "execution": {
     "iopub.execute_input": "2024-11-17T15:46:20.050270Z",
     "iopub.status.busy": "2024-11-17T15:46:20.049809Z",
     "iopub.status.idle": "2024-11-17T15:46:20.062479Z",
     "shell.execute_reply": "2024-11-17T15:46:20.061155Z",
     "shell.execute_reply.started": "2024-11-17T15:46:20.050231Z"
    },
    "papermill": {
     "duration": null,
     "end_time": null,
     "exception": null,
     "start_time": null,
     "status": "pending"
    },
    "tags": []
   },
   "outputs": [],
   "source": [
    "print('MSE',mean_squared_error(y_test,y_pred))\n",
    "print('MAE',mean_absolute_error(y_test,y_pred))\n",
    "print('MASE',sqrt(mean_squared_error(y_test,y_pred)))\n",
    "print('r2_score',r2_score(y_test,y_pred))"
   ]
  },
  {
   "cell_type": "code",
   "execution_count": null,
   "id": "9fee164f",
   "metadata": {
    "execution": {
     "iopub.execute_input": "2024-11-17T15:53:02.904494Z",
     "iopub.status.busy": "2024-11-17T15:53:02.904009Z",
     "iopub.status.idle": "2024-11-17T15:53:02.914892Z",
     "shell.execute_reply": "2024-11-17T15:53:02.913516Z",
     "shell.execute_reply.started": "2024-11-17T15:53:02.904446Z"
    },
    "papermill": {
     "duration": null,
     "end_time": null,
     "exception": null,
     "start_time": null,
     "status": "pending"
    },
    "tags": []
   },
   "outputs": [],
   "source": [
    "r2 = r2_score(y_test,y_pred)\n",
    "r2"
   ]
  },
  {
   "cell_type": "code",
   "execution_count": null,
   "id": "8fea0b19",
   "metadata": {
    "execution": {
     "iopub.execute_input": "2024-11-17T15:52:24.947795Z",
     "iopub.status.busy": "2024-11-17T15:52:24.947228Z",
     "iopub.status.idle": "2024-11-17T15:52:24.953928Z",
     "shell.execute_reply": "2024-11-17T15:52:24.952578Z",
     "shell.execute_reply.started": "2024-11-17T15:52:24.947746Z"
    },
    "papermill": {
     "duration": null,
     "end_time": null,
     "exception": null,
     "start_time": null,
     "status": "pending"
    },
    "tags": []
   },
   "outputs": [],
   "source": [
    "n = X_test.shape[0]\n",
    "p = X_test.shape[1]"
   ]
  },
  {
   "cell_type": "code",
   "execution_count": null,
   "id": "be954849",
   "metadata": {
    "execution": {
     "iopub.execute_input": "2024-11-17T15:53:39.292312Z",
     "iopub.status.busy": "2024-11-17T15:53:39.291280Z",
     "iopub.status.idle": "2024-11-17T15:53:39.300151Z",
     "shell.execute_reply": "2024-11-17T15:53:39.298853Z",
     "shell.execute_reply.started": "2024-11-17T15:53:39.292261Z"
    },
    "papermill": {
     "duration": null,
     "end_time": null,
     "exception": null,
     "start_time": null,
     "status": "pending"
    },
    "tags": []
   },
   "outputs": [],
   "source": [
    "R2 = 1-((1-r2)*(n-1)/(n-1-p))\n",
    "R2"
   ]
  },
  {
   "cell_type": "code",
   "execution_count": null,
   "id": "1920a305",
   "metadata": {
    "execution": {
     "iopub.execute_input": "2024-11-17T15:57:04.909574Z",
     "iopub.status.busy": "2024-11-17T15:57:04.909109Z",
     "iopub.status.idle": "2024-11-17T15:57:08.127308Z",
     "shell.execute_reply": "2024-11-17T15:57:08.125966Z",
     "shell.execute_reply.started": "2024-11-17T15:57:04.909531Z"
    },
    "papermill": {
     "duration": null,
     "end_time": null,
     "exception": null,
     "start_time": null,
     "status": "pending"
    },
    "tags": []
   },
   "outputs": [],
   "source": [
    "import seaborn as sns\n",
    "import matplotlib.pyplot as plt\n",
    "fig = plt.figure()\n",
    "sns.regplot(x=y_test,y=y_pred,ci=68,fit_reg=True,scatter_kws={'color':'red'},line_kws={'color':'blue'})\n",
    "plt.title('y_test vs y_pred')\n",
    "plt.xlabel('y_test')\n",
    "plt.ylabel('y_pred')\n",
    "plt.show()"
   ]
  },
  {
   "cell_type": "code",
   "execution_count": null,
   "id": "f4faf553",
   "metadata": {
    "execution": {
     "iopub.execute_input": "2024-11-17T16:01:12.059380Z",
     "iopub.status.busy": "2024-11-17T16:01:12.058021Z",
     "iopub.status.idle": "2024-11-17T16:01:17.173528Z",
     "shell.execute_reply": "2024-11-17T16:01:17.172409Z",
     "shell.execute_reply.started": "2024-11-17T16:01:12.059321Z"
    },
    "papermill": {
     "duration": null,
     "end_time": null,
     "exception": null,
     "start_time": null,
     "status": "pending"
    },
    "tags": []
   },
   "outputs": [],
   "source": [
    "from sklearn.tree import DecisionTreeRegressor\n",
    "DT = DecisionTreeRegressor(criterion='squared_error',max_depth=8)\n",
    "DT.fit(X_train_new,y_train)"
   ]
  },
  {
   "cell_type": "code",
   "execution_count": null,
   "id": "2524cc1e",
   "metadata": {
    "execution": {
     "iopub.execute_input": "2024-11-17T16:01:19.256593Z",
     "iopub.status.busy": "2024-11-17T16:01:19.255512Z",
     "iopub.status.idle": "2024-11-17T16:01:19.305975Z",
     "shell.execute_reply": "2024-11-17T16:01:19.304729Z",
     "shell.execute_reply.started": "2024-11-17T16:01:19.256536Z"
    },
    "papermill": {
     "duration": null,
     "end_time": null,
     "exception": null,
     "start_time": null,
     "status": "pending"
    },
    "tags": []
   },
   "outputs": [],
   "source": [
    "y_pred1 = DT.predict(X_test_new)"
   ]
  },
  {
   "cell_type": "code",
   "execution_count": null,
   "id": "79eb33b2",
   "metadata": {
    "execution": {
     "iopub.execute_input": "2024-11-17T16:01:21.120811Z",
     "iopub.status.busy": "2024-11-17T16:01:21.120235Z",
     "iopub.status.idle": "2024-11-17T16:01:21.132571Z",
     "shell.execute_reply": "2024-11-17T16:01:21.130987Z",
     "shell.execute_reply.started": "2024-11-17T16:01:21.120726Z"
    },
    "papermill": {
     "duration": null,
     "end_time": null,
     "exception": null,
     "start_time": null,
     "status": "pending"
    },
    "tags": []
   },
   "outputs": [],
   "source": [
    "r2_score(y_test,y_pred1)"
   ]
  },
  {
   "cell_type": "code",
   "execution_count": null,
   "id": "555b930e",
   "metadata": {
    "execution": {
     "iopub.execute_input": "2024-11-17T16:03:15.433955Z",
     "iopub.status.busy": "2024-11-17T16:03:15.433313Z",
     "iopub.status.idle": "2024-11-17T16:04:17.141225Z",
     "shell.execute_reply": "2024-11-17T16:04:17.139951Z",
     "shell.execute_reply.started": "2024-11-17T16:03:15.433899Z"
    },
    "papermill": {
     "duration": null,
     "end_time": null,
     "exception": null,
     "start_time": null,
     "status": "pending"
    },
    "tags": []
   },
   "outputs": [],
   "source": [
    "from sklearn.ensemble import RandomForestRegressor\n",
    "rfr = RandomForestRegressor(n_estimators=20,criterion='squared_error',max_depth=8)\n",
    "rfr.fit(X_train_new,y_train)"
   ]
  },
  {
   "cell_type": "code",
   "execution_count": null,
   "id": "a722226c",
   "metadata": {
    "execution": {
     "iopub.execute_input": "2024-11-17T16:04:21.289501Z",
     "iopub.status.busy": "2024-11-17T16:04:21.289074Z",
     "iopub.status.idle": "2024-11-17T16:04:21.453320Z",
     "shell.execute_reply": "2024-11-17T16:04:21.452186Z",
     "shell.execute_reply.started": "2024-11-17T16:04:21.289459Z"
    },
    "papermill": {
     "duration": null,
     "end_time": null,
     "exception": null,
     "start_time": null,
     "status": "pending"
    },
    "tags": []
   },
   "outputs": [],
   "source": [
    "y_pred2 = rfr.predict(X_test_new)"
   ]
  },
  {
   "cell_type": "code",
   "execution_count": null,
   "id": "e540e6ec",
   "metadata": {
    "execution": {
     "iopub.execute_input": "2024-11-17T16:04:23.116257Z",
     "iopub.status.busy": "2024-11-17T16:04:23.115843Z",
     "iopub.status.idle": "2024-11-17T16:04:23.126582Z",
     "shell.execute_reply": "2024-11-17T16:04:23.125322Z",
     "shell.execute_reply.started": "2024-11-17T16:04:23.116219Z"
    },
    "papermill": {
     "duration": null,
     "end_time": null,
     "exception": null,
     "start_time": null,
     "status": "pending"
    },
    "tags": []
   },
   "outputs": [],
   "source": [
    "r2_score(y_test,y_pred2)"
   ]
  },
  {
   "cell_type": "code",
   "execution_count": null,
   "id": "b3a35594",
   "metadata": {
    "execution": {
     "iopub.execute_input": "2024-11-17T16:16:24.877570Z",
     "iopub.status.busy": "2024-11-17T16:16:24.877146Z",
     "iopub.status.idle": "2024-11-17T16:18:07.773888Z",
     "shell.execute_reply": "2024-11-17T16:18:07.772829Z",
     "shell.execute_reply.started": "2024-11-17T16:16:24.877530Z"
    },
    "papermill": {
     "duration": null,
     "end_time": null,
     "exception": null,
     "start_time": null,
     "status": "pending"
    },
    "tags": []
   },
   "outputs": [],
   "source": [
    "from sklearn.ensemble import GradientBoostingRegressor\n",
    "GB = GradientBoostingRegressor(loss='squared_error',criterion='squared_error',n_estimators=20,max_depth=8)\n",
    "GB.fit(X_train_new,y_train)\n"
   ]
  },
  {
   "cell_type": "code",
   "execution_count": null,
   "id": "77efe6bb",
   "metadata": {
    "execution": {
     "iopub.execute_input": "2024-11-17T16:18:24.510401Z",
     "iopub.status.busy": "2024-11-17T16:18:24.509992Z",
     "iopub.status.idle": "2024-11-17T16:18:24.664058Z",
     "shell.execute_reply": "2024-11-17T16:18:24.662975Z",
     "shell.execute_reply.started": "2024-11-17T16:18:24.510363Z"
    },
    "papermill": {
     "duration": null,
     "end_time": null,
     "exception": null,
     "start_time": null,
     "status": "pending"
    },
    "tags": []
   },
   "outputs": [],
   "source": [
    "y_pred3 = GB.predict(X_test_new)"
   ]
  },
  {
   "cell_type": "code",
   "execution_count": null,
   "id": "87713364",
   "metadata": {
    "execution": {
     "iopub.execute_input": "2024-11-17T16:18:26.411253Z",
     "iopub.status.busy": "2024-11-17T16:18:26.410768Z",
     "iopub.status.idle": "2024-11-17T16:18:26.422470Z",
     "shell.execute_reply": "2024-11-17T16:18:26.420961Z",
     "shell.execute_reply.started": "2024-11-17T16:18:26.411211Z"
    },
    "papermill": {
     "duration": null,
     "end_time": null,
     "exception": null,
     "start_time": null,
     "status": "pending"
    },
    "tags": []
   },
   "outputs": [],
   "source": [
    "r2_score(y_test,y_pred3)"
   ]
  },
  {
   "cell_type": "code",
   "execution_count": null,
   "id": "b6eaa360",
   "metadata": {
    "papermill": {
     "duration": null,
     "end_time": null,
     "exception": null,
     "start_time": null,
     "status": "pending"
    },
    "tags": []
   },
   "outputs": [],
   "source": [
    "import xgboost as xg\n",
    "XG = XGBoostRegressor()\n"
   ]
  },
  {
   "cell_type": "code",
   "execution_count": null,
   "id": "88edbc20",
   "metadata": {
    "execution": {
     "iopub.execute_input": "2024-11-17T16:26:51.645674Z",
     "iopub.status.busy": "2024-11-17T16:26:51.645196Z",
     "iopub.status.idle": "2024-11-17T16:26:51.654274Z",
     "shell.execute_reply": "2024-11-17T16:26:51.652151Z",
     "shell.execute_reply.started": "2024-11-17T16:26:51.645632Z"
    },
    "papermill": {
     "duration": null,
     "end_time": null,
     "exception": null,
     "start_time": null,
     "status": "pending"
    },
    "tags": []
   },
   "outputs": [],
   "source": [
    "from sklearn.compose import ColumnTransformer\n",
    "from sklearn.pipeline import Pipeline\n",
    "trf1 = ColumnTransformer([\n",
    "    ('ohe',OneHotEncoder(sparse_output=False,drop='first'),['OriginCity','DestinationCity'])\n",
    "],remainder='passthrough')\n",
    "Random = RandomForestRegressor(criterion='squared_error',n_estimators=20,max_depth=8)\n",
    "London_AirlineFarePipeline = Pipeline(steps=[\n",
    "    ('trf1',trf1),\n",
    "    ('Random',Random)\n",
    "])"
   ]
  },
  {
   "cell_type": "code",
   "execution_count": null,
   "id": "ec8027a6",
   "metadata": {
    "execution": {
     "iopub.execute_input": "2024-11-17T16:26:55.115306Z",
     "iopub.status.busy": "2024-11-17T16:26:55.114885Z",
     "iopub.status.idle": "2024-11-17T16:26:55.140453Z",
     "shell.execute_reply": "2024-11-17T16:26:55.139160Z",
     "shell.execute_reply.started": "2024-11-17T16:26:55.115267Z"
    },
    "papermill": {
     "duration": null,
     "end_time": null,
     "exception": null,
     "start_time": null,
     "status": "pending"
    },
    "tags": []
   },
   "outputs": [],
   "source": [
    "London_AirlineFarePipeline"
   ]
  },
  {
   "cell_type": "code",
   "execution_count": null,
   "id": "9adb0ea4",
   "metadata": {
    "execution": {
     "iopub.execute_input": "2024-11-17T16:26:58.418769Z",
     "iopub.status.busy": "2024-11-17T16:26:58.418213Z",
     "iopub.status.idle": "2024-11-17T16:27:59.364004Z",
     "shell.execute_reply": "2024-11-17T16:27:59.362655Z",
     "shell.execute_reply.started": "2024-11-17T16:26:58.418722Z"
    },
    "papermill": {
     "duration": null,
     "end_time": null,
     "exception": null,
     "start_time": null,
     "status": "pending"
    },
    "tags": []
   },
   "outputs": [],
   "source": [
    "London_AirlineFarePipeline.fit(X_train,y_train)"
   ]
  },
  {
   "cell_type": "code",
   "execution_count": null,
   "id": "af2e2eaf",
   "metadata": {
    "execution": {
     "iopub.execute_input": "2024-11-17T16:28:26.623276Z",
     "iopub.status.busy": "2024-11-17T16:28:26.622796Z",
     "iopub.status.idle": "2024-11-17T16:28:27.053658Z",
     "shell.execute_reply": "2024-11-17T16:28:27.052292Z",
     "shell.execute_reply.started": "2024-11-17T16:28:26.623230Z"
    },
    "papermill": {
     "duration": null,
     "end_time": null,
     "exception": null,
     "start_time": null,
     "status": "pending"
    },
    "tags": []
   },
   "outputs": [],
   "source": [
    "predictions = London_AirlineFarePipeline.predict(X_test)"
   ]
  },
  {
   "cell_type": "code",
   "execution_count": null,
   "id": "199c7bea",
   "metadata": {
    "execution": {
     "iopub.execute_input": "2024-11-17T16:28:30.291428Z",
     "iopub.status.busy": "2024-11-17T16:28:30.291015Z",
     "iopub.status.idle": "2024-11-17T16:28:30.302255Z",
     "shell.execute_reply": "2024-11-17T16:28:30.300853Z",
     "shell.execute_reply.started": "2024-11-17T16:28:30.291390Z"
    },
    "papermill": {
     "duration": null,
     "end_time": null,
     "exception": null,
     "start_time": null,
     "status": "pending"
    },
    "tags": []
   },
   "outputs": [],
   "source": [
    "r2_score(y_test,predictions)"
   ]
  },
  {
   "cell_type": "code",
   "execution_count": null,
   "id": "a4127961",
   "metadata": {
    "execution": {
     "iopub.execute_input": "2024-11-17T16:31:57.052786Z",
     "iopub.status.busy": "2024-11-17T16:31:57.052000Z",
     "iopub.status.idle": "2024-11-17T16:31:57.242292Z",
     "shell.execute_reply": "2024-11-17T16:31:57.240793Z",
     "shell.execute_reply.started": "2024-11-17T16:31:57.052742Z"
    },
    "papermill": {
     "duration": null,
     "end_time": null,
     "exception": null,
     "start_time": null,
     "status": "pending"
    },
    "tags": []
   },
   "outputs": [],
   "source": [
    "import pickle\n",
    "pickle.dump(London_AirlineFarePipeline,open('London_AirlineFarePipeline.pkl','wb'))\n",
    "pickle.dump(USAirline_Fares,open('USAirline_Fares.pkl','wb'))"
   ]
  },
  {
   "cell_type": "code",
   "execution_count": null,
   "id": "4db8f298",
   "metadata": {
    "execution": {
     "iopub.execute_input": "2024-11-17T16:32:17.343535Z",
     "iopub.status.busy": "2024-11-17T16:32:17.343109Z",
     "iopub.status.idle": "2024-11-17T16:32:17.351711Z",
     "shell.execute_reply": "2024-11-17T16:32:17.350410Z",
     "shell.execute_reply.started": "2024-11-17T16:32:17.343497Z"
    },
    "papermill": {
     "duration": null,
     "end_time": null,
     "exception": null,
     "start_time": null,
     "status": "pending"
    },
    "tags": []
   },
   "outputs": [],
   "source": [
    "from IPython.display import FileLink\n",
    "FileLink('London_AirlineFarePipeline.pkl')"
   ]
  },
  {
   "cell_type": "code",
   "execution_count": null,
   "id": "6f09c573",
   "metadata": {
    "execution": {
     "iopub.execute_input": "2024-11-17T16:32:43.822600Z",
     "iopub.status.busy": "2024-11-17T16:32:43.822099Z",
     "iopub.status.idle": "2024-11-17T16:32:43.831569Z",
     "shell.execute_reply": "2024-11-17T16:32:43.830091Z",
     "shell.execute_reply.started": "2024-11-17T16:32:43.822557Z"
    },
    "papermill": {
     "duration": null,
     "end_time": null,
     "exception": null,
     "start_time": null,
     "status": "pending"
    },
    "tags": []
   },
   "outputs": [],
   "source": [
    "FileLink('USAirline_Fares.pkl')"
   ]
  },
  {
   "cell_type": "code",
   "execution_count": null,
   "id": "28584a78",
   "metadata": {
    "execution": {
     "iopub.execute_input": "2024-11-17T19:16:09.789370Z",
     "iopub.status.busy": "2024-11-17T19:16:09.788905Z",
     "iopub.status.idle": "2024-11-17T19:16:23.586506Z",
     "shell.execute_reply": "2024-11-17T19:16:23.584989Z",
     "shell.execute_reply.started": "2024-11-17T19:16:09.789330Z"
    },
    "papermill": {
     "duration": null,
     "end_time": null,
     "exception": null,
     "start_time": null,
     "status": "pending"
    },
    "tags": []
   },
   "outputs": [],
   "source": [
    "pip install plotly"
   ]
  },
  {
   "cell_type": "code",
   "execution_count": null,
   "id": "ee869767",
   "metadata": {
    "execution": {
     "iopub.execute_input": "2024-11-17T20:00:55.569306Z",
     "iopub.status.busy": "2024-11-17T20:00:55.568115Z",
     "iopub.status.idle": "2024-11-17T20:01:09.093576Z",
     "shell.execute_reply": "2024-11-17T20:01:09.091734Z",
     "shell.execute_reply.started": "2024-11-17T20:00:55.569253Z"
    },
    "papermill": {
     "duration": null,
     "end_time": null,
     "exception": null,
     "start_time": null,
     "status": "pending"
    },
    "tags": []
   },
   "outputs": [],
   "source": [
    "pip install \"notebook>=5.3\" \"ipywidgets\">=7.5"
   ]
  },
  {
   "cell_type": "code",
   "execution_count": null,
   "id": "04749aac",
   "metadata": {
    "execution": {
     "iopub.execute_input": "2024-11-26T07:23:52.957704Z",
     "iopub.status.busy": "2024-11-26T07:23:52.957290Z",
     "iopub.status.idle": "2024-11-26T07:23:53.932859Z",
     "shell.execute_reply": "2024-11-26T07:23:53.931500Z",
     "shell.execute_reply.started": "2024-11-26T07:23:52.957636Z"
    },
    "papermill": {
     "duration": null,
     "end_time": null,
     "exception": null,
     "start_time": null,
     "status": "pending"
    },
    "tags": []
   },
   "outputs": [],
   "source": [
    "import plotly.offline as pyo\n",
    "import plotly.express as px\n",
    "from plotly.offline import init_notebook_mode, iplot, plot\n",
    "import plotly.graph_objects as go\n",
    "from plotly.graph_objs import scatter\n",
    "pyo.init_notebook_mode()"
   ]
  },
  {
   "cell_type": "code",
   "execution_count": null,
   "id": "eadcab61",
   "metadata": {
    "execution": {
     "iopub.execute_input": "2024-11-26T07:23:59.168154Z",
     "iopub.status.busy": "2024-11-26T07:23:59.167732Z",
     "iopub.status.idle": "2024-11-26T07:23:59.173595Z",
     "shell.execute_reply": "2024-11-26T07:23:59.172479Z",
     "shell.execute_reply.started": "2024-11-26T07:23:59.168116Z"
    },
    "papermill": {
     "duration": null,
     "end_time": null,
     "exception": null,
     "start_time": null,
     "status": "pending"
    },
    "tags": []
   },
   "outputs": [],
   "source": [
    "import plotly.io as pio\n",
    "pio.renderers.default = 'iframe'\n"
   ]
  },
  {
   "cell_type": "code",
   "execution_count": null,
   "id": "7f93d8ce",
   "metadata": {
    "papermill": {
     "duration": null,
     "end_time": null,
     "exception": null,
     "start_time": null,
     "status": "pending"
    },
    "tags": []
   },
   "outputs": [],
   "source": [
    "df['Year'] = pd.to_datetime(df['Year'])\n",
    "df['Year'] = df['Year'].dt.year"
   ]
  },
  {
   "cell_type": "code",
   "execution_count": null,
   "id": "a8bc5e01",
   "metadata": {
    "execution": {
     "iopub.execute_input": "2024-11-26T07:24:04.667961Z",
     "iopub.status.busy": "2024-11-26T07:24:04.667411Z",
     "iopub.status.idle": "2024-11-26T07:24:06.686916Z",
     "shell.execute_reply": "2024-11-26T07:24:06.685734Z",
     "shell.execute_reply.started": "2024-11-26T07:24:04.667901Z"
    },
    "papermill": {
     "duration": null,
     "end_time": null,
     "exception": null,
     "start_time": null,
     "status": "pending"
    },
    "tags": []
   },
   "outputs": [],
   "source": [
    "figure = px.scatter(data_frame=df,x='Destination_City_ID',y='fare',size='Year')\n",
    "figure.show()"
   ]
  },
  {
   "cell_type": "code",
   "execution_count": null,
   "id": "19671c88",
   "metadata": {
    "execution": {
     "iopub.execute_input": "2024-11-20T12:35:46.620894Z",
     "iopub.status.busy": "2024-11-20T12:35:46.620517Z",
     "iopub.status.idle": "2024-11-20T12:35:46.627706Z",
     "shell.execute_reply": "2024-11-20T12:35:46.626498Z",
     "shell.execute_reply.started": "2024-11-20T12:35:46.620863Z"
    },
    "papermill": {
     "duration": null,
     "end_time": null,
     "exception": null,
     "start_time": null,
     "status": "pending"
    },
    "tags": []
   },
   "outputs": [],
   "source": [
    "id_vars=['Year']\n",
    "id_vars"
   ]
  },
  {
   "cell_type": "code",
   "execution_count": null,
   "id": "0fedd362",
   "metadata": {
    "execution": {
     "iopub.execute_input": "2024-11-20T12:40:21.010740Z",
     "iopub.status.busy": "2024-11-20T12:40:21.010304Z",
     "iopub.status.idle": "2024-11-20T12:40:21.019941Z",
     "shell.execute_reply": "2024-11-20T12:40:21.018988Z",
     "shell.execute_reply.started": "2024-11-20T12:40:21.010683Z"
    },
    "papermill": {
     "duration": null,
     "end_time": null,
     "exception": null,
     "start_time": null,
     "status": "pending"
    },
    "tags": []
   },
   "outputs": [],
   "source": [
    "df['Year'].value_counts()"
   ]
  },
  {
   "cell_type": "code",
   "execution_count": null,
   "id": "b24ff347",
   "metadata": {
    "execution": {
     "iopub.execute_input": "2024-11-20T12:37:01.632486Z",
     "iopub.status.busy": "2024-11-20T12:37:01.632089Z",
     "iopub.status.idle": "2024-11-20T12:37:01.639248Z",
     "shell.execute_reply": "2024-11-20T12:37:01.638344Z",
     "shell.execute_reply.started": "2024-11-20T12:37:01.632450Z"
    },
    "papermill": {
     "duration": null,
     "end_time": null,
     "exception": null,
     "start_time": null,
     "status": "pending"
    },
    "tags": []
   },
   "outputs": [],
   "source": [
    "years"
   ]
  },
  {
   "cell_type": "code",
   "execution_count": null,
   "id": "68124142",
   "metadata": {
    "execution": {
     "iopub.execute_input": "2024-11-20T12:46:41.251073Z",
     "iopub.status.busy": "2024-11-20T12:46:41.250704Z",
     "iopub.status.idle": "2024-11-20T12:46:41.287553Z",
     "shell.execute_reply": "2024-11-20T12:46:41.286525Z",
     "shell.execute_reply.started": "2024-11-20T12:46:41.251041Z"
    },
    "papermill": {
     "duration": null,
     "end_time": null,
     "exception": null,
     "start_time": null,
     "status": "pending"
    },
    "tags": []
   },
   "outputs": [],
   "source": [
    "df = df[['Year','DestinationCity','OriginCity','fare']]\n",
    "df"
   ]
  },
  {
   "cell_type": "code",
   "execution_count": null,
   "id": "c9843932",
   "metadata": {
    "execution": {
     "iopub.execute_input": "2024-11-20T12:46:44.447899Z",
     "iopub.status.busy": "2024-11-20T12:46:44.446836Z",
     "iopub.status.idle": "2024-11-20T12:46:44.531319Z",
     "shell.execute_reply": "2024-11-20T12:46:44.530434Z",
     "shell.execute_reply.started": "2024-11-20T12:46:44.447860Z"
    },
    "papermill": {
     "duration": null,
     "end_time": null,
     "exception": null,
     "start_time": null,
     "status": "pending"
    },
    "tags": []
   },
   "outputs": [],
   "source": [
    "df['Year'] = df['Year'].astype(str)"
   ]
  },
  {
   "cell_type": "code",
   "execution_count": null,
   "id": "7bbe85cf",
   "metadata": {
    "execution": {
     "iopub.execute_input": "2024-11-26T07:24:28.906618Z",
     "iopub.status.busy": "2024-11-26T07:24:28.906249Z",
     "iopub.status.idle": "2024-11-26T07:24:32.809802Z",
     "shell.execute_reply": "2024-11-26T07:24:32.808706Z",
     "shell.execute_reply.started": "2024-11-26T07:24:28.906587Z"
    },
    "papermill": {
     "duration": null,
     "end_time": null,
     "exception": null,
     "start_time": null,
     "status": "pending"
    },
    "tags": []
   },
   "outputs": [],
   "source": [
    "indices= ['DestinationCity','OriginCity','fare']\n",
    "df1 = pd.melt(df,id_vars=['Year'],value_vars=indices)\n",
    "df1.columns = ['Year','index_symbol','value']\n",
    "years = df.Year.unique().tolist()\n",
    "titles =[]\n",
    "xaxis_titles = []\n",
    "\n",
    "for year in years:\n",
    "    df_year = df1[df1['Year']==year]\n",
    "    if titles:\n",
    "        fig_temp = px.histogram(df_year,x=\"value\",color = \"index_symbol\")\n",
    "        fig.add_traces(fig_temp.data)\n",
    "    else:\n",
    "        fig = px.histogram(df_year,x=\"value\",color=\"index_symbol\")\n",
    "        \n",
    "    titles +=[year]\n",
    "    xaxis_titles += ['']\n",
    "\n",
    "print(len(fig.data))\n",
    "\n",
    "def get_visible(idx):\n",
    "    visibles = [False] * len(fig.data)\n",
    "    for vis_idx in range(idx*len(indices),idx*len(indices)+len(indices)):\n",
    "        visibles[vis_idx] = True\n",
    "    return visibles\n",
    "    \n",
    "fig.update_traces(dict(visible=False))\n",
    "for vis_idx in range(0, len(indices)):\n",
    "    fig.data[vis_idx].visible=True\n",
    "\n",
    "buttons = [ dict(label=titles[idx],method=\"update\",args=[{\"visible\":get_visible(idx)},{\"title\":titles[idx],\"xaxis\":{\"title\":xaxis_titles[idx]}}]) for idx,data in enumerate(years)]\n",
    "\n",
    "fig.update_layout(\n",
    "    updatemenus=[\n",
    "\n",
    "        dict(\n",
    "            active=0,\n",
    "            buttons = list(buttons),\n",
    "        )\n",
    "        \n",
    "    ])\n",
    "fig.update_layout(title_text=titles[0],xaxis=dict(title=xaxis_titles[0]))"
   ]
  },
  {
   "cell_type": "code",
   "execution_count": null,
   "id": "80897312",
   "metadata": {
    "execution": {
     "iopub.execute_input": "2024-11-26T07:25:58.503220Z",
     "iopub.status.busy": "2024-11-26T07:25:58.502734Z",
     "iopub.status.idle": "2024-11-26T07:26:02.245299Z",
     "shell.execute_reply": "2024-11-26T07:26:02.243981Z",
     "shell.execute_reply.started": "2024-11-26T07:25:58.503175Z"
    },
    "papermill": {
     "duration": null,
     "end_time": null,
     "exception": null,
     "start_time": null,
     "status": "pending"
    },
    "tags": []
   },
   "outputs": [],
   "source": [
    "data = df.groupby(['Year','DestinationCity','fare'])['OriginCity'].size().to_frame(name='OriginCity').reset_index()\n",
    "fig = go.Figure()\n",
    "fig.add_trace(go.Histogram(x=df.fare,\n",
    "                           y=df.passengers,\n",
    "                           #colorscale=df.Year,\n",
    "                           visible=True)\n",
    "             )\n",
    "updatemenu = []\n",
    "buttons = []\n",
    "buttons1 = []\n",
    "\n",
    "for col,col1 in zip(list(df.Year.unique()),list(df.DestinationCity.unique())):\n",
    "    buttons.append(dict(method='restyle',\n",
    "                       label = col,\n",
    "                       visible=True,\n",
    "                           args=[{'y':[df[(df.Year==col)]['fare']],\n",
    "                                  'x':[df[(df.Year==col)].OriginCity],\n",
    "                              'type':'histrogram'}\n",
    "                             \n",
    "                               ],\n",
    "                       )\n",
    "                  )\n",
    "    buttons1.append(dict(method='restyle',\n",
    "                       label = col1,\n",
    "                       visible=True,\n",
    "                           args=[{'y':[df[(df.DestinationCity==col1)]['fare']],\n",
    "                                  'x':[df[(df.DestinationCity==col1)].OriginCity],\n",
    "                              'type':'histogram'}\n",
    "                            \n",
    "                                ],\n",
    "                       )\n",
    "                   )\n",
    "updatemenu = []\n",
    "your_menu = dict()\n",
    "updatemenu.append(your_menu)\n",
    "updatemenu.append(dict())\n",
    "updatemenu[0]['buttons'] = buttons\n",
    "updatemenu[0]['direction'] = 'down'\n",
    "updatemenu[0]['showactive'] = True\n",
    "updatemenu[0]['x'] = 0.1\n",
    "updatemenu[1]['buttons'] = buttons1\n",
    "updatemenu[1]['direction'] = 'down'\n",
    "updatemenu[1]['showactive'] = True\n",
    "updatemenu[1]['x'] = 0.5\n",
    "\n",
    "fig.update_layout(showlegend=False,updatemenus=updatemenu)\n",
    "fig.show()\n",
    "\n"
   ]
  },
  {
   "cell_type": "code",
   "execution_count": null,
   "id": "cfa39eb2",
   "metadata": {
    "execution": {
     "iopub.execute_input": "2024-11-26T07:25:53.681853Z",
     "iopub.status.busy": "2024-11-26T07:25:53.681413Z",
     "iopub.status.idle": "2024-11-26T07:25:53.767263Z",
     "shell.execute_reply": "2024-11-26T07:25:53.766132Z",
     "shell.execute_reply.started": "2024-11-26T07:25:53.681814Z"
    },
    "papermill": {
     "duration": null,
     "end_time": null,
     "exception": null,
     "start_time": null,
     "status": "pending"
    },
    "tags": []
   },
   "outputs": [],
   "source": [
    "\n",
    "df['Year'] = df['Year'].astype('str')"
   ]
  },
  {
   "cell_type": "code",
   "execution_count": null,
   "id": "fb4494cf",
   "metadata": {
    "execution": {
     "iopub.execute_input": "2024-11-26T07:26:23.164740Z",
     "iopub.status.busy": "2024-11-26T07:26:23.164312Z",
     "iopub.status.idle": "2024-11-26T07:26:35.390599Z",
     "shell.execute_reply": "2024-11-26T07:26:35.389153Z",
     "shell.execute_reply.started": "2024-11-26T07:26:23.164700Z"
    },
    "papermill": {
     "duration": null,
     "end_time": null,
     "exception": null,
     "start_time": null,
     "status": "pending"
    },
    "tags": []
   },
   "outputs": [],
   "source": [
    "data = df.groupby(['Year','OriginCity','DestinationCity','fare'])['large_ms'].size().to_frame(name='passengers').reset_index()\n",
    "fig = go.Figure()\n",
    "fig.add_trace(go.Histogram(x=df.Year,\n",
    "                           y=df.fare,\n",
    "                           #colorscale=df.Year,\n",
    "                           visible=True)\n",
    "             )\n",
    "updatemenu = []\n",
    "buttons = []\n",
    "buttons1 = []\n",
    "buttons2 = []\n",
    "\n",
    "for col,col1 in zip(list(df.OriginCity.unique()),list(df.DestinationCity.unique())):\n",
    "    buttons.append(dict(method='restyle',\n",
    "                       label = col,\n",
    "                       visible=True,\n",
    "                           args=[{'y':[df[(df.OriginCity==col)]['fare']],\n",
    "                                  'x':[df[(df.OriginCity==col)].Year],\n",
    "                              'type':'histogram'}\n",
    "                             \n",
    "                               ],\n",
    "                       )\n",
    "                  )\n",
    "    buttons1.append(dict(method='restyle',\n",
    "                       label = col1,\n",
    "                       visible=True,\n",
    "                           args=[{'y':[df[(df.DestinationCity==col1)]['fare']],\n",
    "                                  'x':[df[(df.DestinationCity==col1)].Year],\n",
    "                              'type':'histogram'}\n",
    "                            \n",
    "                                ],\n",
    "                       )\n",
    "                   )\n",
    "\n",
    "updatemenu = []\n",
    "your_menu = dict()\n",
    "updatemenu.append(your_menu)\n",
    "updatemenu.append(dict())\n",
    "updatemenu[0]['buttons'] = buttons\n",
    "updatemenu[0]['direction'] = 'down'\n",
    "updatemenu[0]['showactive'] = True\n",
    "updatemenu[0]['x'] = 0\n",
    "updatemenu[1]['buttons'] = buttons1\n",
    "updatemenu[1]['direction'] = 'down'\n",
    "updatemenu[1]['showactive'] = True\n",
    "updatemenu[1]['x'] = 1\n",
    "fig.update_layout(showlegend=True,updatemenus=updatemenu)\n",
    "fig.show()\n",
    "\n"
   ]
  },
  {
   "cell_type": "code",
   "execution_count": null,
   "id": "58895122",
   "metadata": {
    "execution": {
     "iopub.execute_input": "2024-11-20T11:57:02.625585Z",
     "iopub.status.busy": "2024-11-20T11:57:02.625199Z",
     "iopub.status.idle": "2024-11-20T11:57:02.644574Z",
     "shell.execute_reply": "2024-11-20T11:57:02.643464Z",
     "shell.execute_reply.started": "2024-11-20T11:57:02.625547Z"
    },
    "papermill": {
     "duration": null,
     "end_time": null,
     "exception": null,
     "start_time": null,
     "status": "pending"
    },
    "tags": []
   },
   "outputs": [],
   "source": [
    "%matplotlib inline\n",
    "df['Year'] = pd.to_datetime(df['Year'])\n",
    "df['Year'] = df['Year'].dt.year"
   ]
  },
  {
   "cell_type": "code",
   "execution_count": null,
   "id": "8b5777a5",
   "metadata": {
    "execution": {
     "iopub.execute_input": "2024-11-26T07:28:33.985788Z",
     "iopub.status.busy": "2024-11-26T07:28:33.984727Z",
     "iopub.status.idle": "2024-11-26T07:28:34.616943Z",
     "shell.execute_reply": "2024-11-26T07:28:34.615621Z",
     "shell.execute_reply.started": "2024-11-26T07:28:33.985739Z"
    },
    "papermill": {
     "duration": null,
     "end_time": null,
     "exception": null,
     "start_time": null,
     "status": "pending"
    },
    "tags": []
   },
   "outputs": [],
   "source": [
    "fig = px.scatter(df,x='Destination_City_ID',y='fare',animation_frame='Year',animation_group='Origin_City_ID',size='passengers',color='large_ms',hover_name='Origin_City_ID',log_x=True,size_max=105,range_x=[200,150000],range_y=[10,200])\n",
    "fig.layout.updatemenus[0].buttons[0].args[1][\"frame\"][\"duration\"] = 700\n",
    "fig.show()"
   ]
  },
  {
   "cell_type": "code",
   "execution_count": null,
   "id": "168ee733",
   "metadata": {
    "execution": {
     "iopub.execute_input": "2024-11-20T13:36:13.040750Z",
     "iopub.status.busy": "2024-11-20T13:36:13.040316Z",
     "iopub.status.idle": "2024-11-20T13:36:26.387627Z",
     "shell.execute_reply": "2024-11-20T13:36:26.386199Z",
     "shell.execute_reply.started": "2024-11-20T13:36:13.040711Z"
    },
    "papermill": {
     "duration": null,
     "end_time": null,
     "exception": null,
     "start_time": null,
     "status": "pending"
    },
    "tags": []
   },
   "outputs": [],
   "source": [
    "pip install numpy scipy matplotlib ipython jupyter pandas sympy nose"
   ]
  },
  {
   "cell_type": "code",
   "execution_count": null,
   "id": "16d1b36a",
   "metadata": {
    "execution": {
     "iopub.execute_input": "2024-11-20T13:37:52.179455Z",
     "iopub.status.busy": "2024-11-20T13:37:52.179057Z",
     "iopub.status.idle": "2024-11-20T13:37:52.191142Z",
     "shell.execute_reply": "2024-11-20T13:37:52.190083Z",
     "shell.execute_reply.started": "2024-11-20T13:37:52.179424Z"
    },
    "papermill": {
     "duration": null,
     "end_time": null,
     "exception": null,
     "start_time": null,
     "status": "pending"
    },
    "tags": []
   },
   "outputs": [],
   "source": [
    "%matplotlib notebook"
   ]
  },
  {
   "cell_type": "code",
   "execution_count": null,
   "id": "40181f00",
   "metadata": {
    "execution": {
     "iopub.execute_input": "2024-11-20T15:40:29.923895Z",
     "iopub.status.busy": "2024-11-20T15:40:29.923462Z",
     "iopub.status.idle": "2024-11-20T15:40:29.933103Z",
     "shell.execute_reply": "2024-11-20T15:40:29.931792Z",
     "shell.execute_reply.started": "2024-11-20T15:40:29.923857Z"
    },
    "papermill": {
     "duration": null,
     "end_time": null,
     "exception": null,
     "start_time": null,
     "status": "pending"
    },
    "tags": []
   },
   "outputs": [],
   "source": [
    "df.columns"
   ]
  },
  {
   "cell_type": "code",
   "execution_count": null,
   "id": "8f28b30f",
   "metadata": {
    "execution": {
     "iopub.execute_input": "2024-11-20T17:43:14.462997Z",
     "iopub.status.busy": "2024-11-20T17:43:14.462453Z",
     "iopub.status.idle": "2024-11-20T17:43:37.551720Z",
     "shell.execute_reply": "2024-11-20T17:43:37.550502Z",
     "shell.execute_reply.started": "2024-11-20T17:43:14.462955Z"
    },
    "papermill": {
     "duration": null,
     "end_time": null,
     "exception": null,
     "start_time": null,
     "status": "pending"
    },
    "tags": []
   },
   "outputs": [],
   "source": [
    "fig = px.sunburst(df,path=['Year','fare'],values='large_ms')\n",
    "fig.update_traces(textinfo='label+percent parent')\n",
    "fig.show()"
   ]
  }
 ],
 "metadata": {
  "kaggle": {
   "accelerator": "none",
   "dataSources": [
    {
     "datasetId": 5493341,
     "sourceId": 9102243,
     "sourceType": "datasetVersion"
    }
   ],
   "dockerImageVersionId": 30786,
   "isGpuEnabled": false,
   "isInternetEnabled": true,
   "language": "python",
   "sourceType": "notebook"
  },
  "kernelspec": {
   "display_name": "Python 3",
   "language": "python",
   "name": "python3"
  },
  "language_info": {
   "codemirror_mode": {
    "name": "ipython",
    "version": 3
   },
   "file_extension": ".py",
   "mimetype": "text/x-python",
   "name": "python",
   "nbconvert_exporter": "python",
   "pygments_lexer": "ipython3",
   "version": "3.10.14"
  },
  "papermill": {
   "default_parameters": {},
   "duration": 16.644225,
   "end_time": "2025-04-16T19:11:14.580419",
   "environment_variables": {},
   "exception": true,
   "input_path": "__notebook__.ipynb",
   "output_path": "__notebook__.ipynb",
   "parameters": {},
   "start_time": "2025-04-16T19:10:57.936194",
   "version": "2.6.0"
  }
 },
 "nbformat": 4,
 "nbformat_minor": 5
}
